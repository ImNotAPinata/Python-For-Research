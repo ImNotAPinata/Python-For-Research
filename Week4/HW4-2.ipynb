{
 "cells": [
  {
   "cell_type": "markdown",
   "metadata": {},
   "source": [
    "# Using Python for Research Homework: Week 4, Case Study 2\n",
    "\n",
    "In this case study, we will continue taking a look at patterns of flight for each of the three birds in our dataset."
   ]
  },
  {
   "cell_type": "code",
   "execution_count": 1,
   "metadata": {},
   "outputs": [
    {
     "data": {
      "text/html": [
       "<div>\n",
       "<table border=\"1\" class=\"dataframe\">\n",
       "  <thead>\n",
       "    <tr style=\"text-align: right;\">\n",
       "      <th></th>\n",
       "      <th>altitude</th>\n",
       "      <th>date_time</th>\n",
       "      <th>device_info_serial</th>\n",
       "      <th>direction</th>\n",
       "      <th>latitude</th>\n",
       "      <th>longitude</th>\n",
       "      <th>speed_2d</th>\n",
       "      <th>bird_name</th>\n",
       "    </tr>\n",
       "  </thead>\n",
       "  <tbody>\n",
       "    <tr>\n",
       "      <th>0</th>\n",
       "      <td>71</td>\n",
       "      <td>2013-08-15 00:18:08+00</td>\n",
       "      <td>851</td>\n",
       "      <td>-150.469753</td>\n",
       "      <td>49.419860</td>\n",
       "      <td>2.120733</td>\n",
       "      <td>0.150000</td>\n",
       "      <td>Eric</td>\n",
       "    </tr>\n",
       "    <tr>\n",
       "      <th>1</th>\n",
       "      <td>68</td>\n",
       "      <td>2013-08-15 00:48:07+00</td>\n",
       "      <td>851</td>\n",
       "      <td>-136.151141</td>\n",
       "      <td>49.419880</td>\n",
       "      <td>2.120746</td>\n",
       "      <td>2.438360</td>\n",
       "      <td>Eric</td>\n",
       "    </tr>\n",
       "    <tr>\n",
       "      <th>2</th>\n",
       "      <td>68</td>\n",
       "      <td>2013-08-15 01:17:58+00</td>\n",
       "      <td>851</td>\n",
       "      <td>160.797477</td>\n",
       "      <td>49.420310</td>\n",
       "      <td>2.120885</td>\n",
       "      <td>0.596657</td>\n",
       "      <td>Eric</td>\n",
       "    </tr>\n",
       "    <tr>\n",
       "      <th>3</th>\n",
       "      <td>73</td>\n",
       "      <td>2013-08-15 01:47:51+00</td>\n",
       "      <td>851</td>\n",
       "      <td>32.769360</td>\n",
       "      <td>49.420359</td>\n",
       "      <td>2.120859</td>\n",
       "      <td>0.310161</td>\n",
       "      <td>Eric</td>\n",
       "    </tr>\n",
       "    <tr>\n",
       "      <th>4</th>\n",
       "      <td>69</td>\n",
       "      <td>2013-08-15 02:17:42+00</td>\n",
       "      <td>851</td>\n",
       "      <td>45.191230</td>\n",
       "      <td>49.420331</td>\n",
       "      <td>2.120887</td>\n",
       "      <td>0.193132</td>\n",
       "      <td>Eric</td>\n",
       "    </tr>\n",
       "  </tbody>\n",
       "</table>\n",
       "</div>"
      ],
      "text/plain": [
       "   altitude               date_time  device_info_serial   direction  \\\n",
       "0        71  2013-08-15 00:18:08+00                 851 -150.469753   \n",
       "1        68  2013-08-15 00:48:07+00                 851 -136.151141   \n",
       "2        68  2013-08-15 01:17:58+00                 851  160.797477   \n",
       "3        73  2013-08-15 01:47:51+00                 851   32.769360   \n",
       "4        69  2013-08-15 02:17:42+00                 851   45.191230   \n",
       "\n",
       "    latitude  longitude  speed_2d bird_name  \n",
       "0  49.419860   2.120733  0.150000      Eric  \n",
       "1  49.419880   2.120746  2.438360      Eric  \n",
       "2  49.420310   2.120885  0.596657      Eric  \n",
       "3  49.420359   2.120859  0.310161      Eric  \n",
       "4  49.420331   2.120887  0.193132      Eric  "
      ]
     },
     "execution_count": 1,
     "metadata": {},
     "output_type": "execute_result"
    }
   ],
   "source": [
    "# DO NOT EDIT THIS CODE\n",
    "import pandas as pd\n",
    "import numpy as np\n",
    "birddata = pd.read_csv(\"asset-v1_HarvardX+PH526x+2T2019+type@asset+block@bird_tracking.csv\", index_col=0)\n",
    "birddata.head()"
   ]
  },
  {
   "cell_type": "markdown",
   "metadata": {},
   "source": [
    "### Exercise 1\n",
    "\n",
    "In this case study, we will continue taking a look at patterns of flight for each of the three birds in our dataset. We will group the flight patterns by bird and date, and plot the mean altitude for these groupings.\n",
    "\n",
    "`pandas` makes it easy to perform basic operations on groups within a dataframe without needing to loop through each value in the dataframe. In this exercise, we will group the dataframe by `birdname` and then find the average `speed_2d` for each bird.\n",
    "\n",
    "#### Instructions \n",
    "- Fill in the code to find the mean altitudes of each bird using the pre-loaded `birddata` dataframe. "
   ]
  },
  {
   "cell_type": "code",
   "execution_count": 2,
   "metadata": {},
   "outputs": [
    {
     "name": "stdout",
     "output_type": "stream",
     "text": [
      "       altitude               date_time  device_info_serial   direction  \\\n",
      "0            71  2013-08-15 00:18:08+00                 851 -150.469753   \n",
      "1            68  2013-08-15 00:48:07+00                 851 -136.151141   \n",
      "2            68  2013-08-15 01:17:58+00                 851  160.797477   \n",
      "3            73  2013-08-15 01:47:51+00                 851   32.769360   \n",
      "4            69  2013-08-15 02:17:42+00                 851   45.191230   \n",
      "19795       382  2013-08-15 00:20:45+00                 864  145.179141   \n",
      "19796       197  2013-08-15 00:51:00+00                 864  -25.393443   \n",
      "19797       206  2013-08-15 01:21:08+00                 864  158.480445   \n",
      "19798       200  2013-08-15 01:50:57+00                 864  139.613245   \n",
      "19799       199  2013-08-15 02:20:48+00                 864 -134.485593   \n",
      "40916        55  2013-08-15 00:01:08+00                 833  -91.499509   \n",
      "40917        54  2013-08-15 00:31:00+00                 833 -141.804053   \n",
      "40918        55  2013-08-15 01:01:19+00                 833  -10.651840   \n",
      "40919        56  2013-08-15 01:31:38+00                 833   14.727689   \n",
      "40920        55  2013-08-15 02:01:24+00                 833 -169.882200   \n",
      "\n",
      "        latitude  longitude   speed_2d bird_name  \n",
      "0      49.419860   2.120733   0.150000      Eric  \n",
      "1      49.419880   2.120746   2.438360      Eric  \n",
      "2      49.420310   2.120885   0.596657      Eric  \n",
      "3      49.420359   2.120859   0.310161      Eric  \n",
      "4      49.420331   2.120887   0.193132      Eric  \n",
      "19795  50.213455   4.394506  16.482439      Nico  \n",
      "19796  50.214117   4.394010   0.360555      Nico  \n",
      "19797  50.213713   4.393788   0.193132      Nico  \n",
      "19798  50.213546   4.393801   0.800999      Nico  \n",
      "19799  50.213601   4.393882   1.268267      Nico  \n",
      "40916  49.931065   2.281893   0.372156     Sanne  \n",
      "40917  49.931076   2.281900   1.318484     Sanne  \n",
      "40918  49.931016   2.281933   0.076158     Sanne  \n",
      "40919  49.931053   2.281911   0.014142     Sanne  \n",
      "40920  49.931042   2.281893   0.094340     Sanne  \n",
      "2.558986595840664\n"
     ]
    }
   ],
   "source": [
    "# First, use `groupby()` to group the data by \"bird_name\".\n",
    "grouped_birds = birddata.groupby('bird_name')\n",
    "print(grouped_birds.head())\n",
    "\n",
    "# Now calculate the mean of `speed_2d` using the `mean()` function.\n",
    "mean_speeds = birddata.speed_2d.mean()\n",
    "print(mean_speeds)"
   ]
  },
  {
   "cell_type": "code",
   "execution_count": 3,
   "metadata": {},
   "outputs": [
    {
     "name": "stdout",
     "output_type": "stream",
     "text": [
      "bird_name\n",
      "Eric     60.249406\n",
      "Nico     67.900478\n",
      "Sanne    29.159922\n",
      "Name: altitude, dtype: float64\n"
     ]
    }
   ],
   "source": [
    "# Find the mean `altitude` for each bird.\n",
    "mean_altitudes = birddata.groupby(['bird_name'])['altitude'].mean()\n",
    "print(mean_altitudes.head())"
   ]
  },
  {
   "cell_type": "code",
   "execution_count": 4,
   "metadata": {},
   "outputs": [
    {
     "name": "stdout",
     "output_type": "stream",
     "text": [
      "bird_name\n",
      "Eric     2.300545\n",
      "Nico     2.908726\n",
      "Sanne    2.450434\n",
      "Name: speed_2d, dtype: float64\n"
     ]
    }
   ],
   "source": [
    "# Find the mean `speed_2d` for each bird.\n",
    "print(birddata.groupby(['bird_name'])['speed_2d'].mean())"
   ]
  },
  {
   "cell_type": "markdown",
   "metadata": {},
   "source": [
    "### Exercise 2\n",
    "\n",
    "In this exercise, we will group the flight times by date and calculate the mean altitude within that day.\n",
    "\n",
    "#### Instructions \n",
    "- Convert `birddata.date_time` to the `pd.datetime` format, extract the date, and store it as `birddata[\"date\"]`.\n",
    "- Fill in the code to find the mean altitudes for each day.\n",
    "\n",
    "What is the mean altitude of the birds on 2013-09-12? (Hint: You will need to convert this to a datetime object as well, extract the date, and then use this to index into the dataframe.)"
   ]
  },
  {
   "cell_type": "code",
   "execution_count": 5,
   "metadata": {},
   "outputs": [
    {
     "data": {
      "text/html": [
       "<div>\n",
       "<table border=\"1\" class=\"dataframe\">\n",
       "  <thead>\n",
       "    <tr style=\"text-align: right;\">\n",
       "      <th></th>\n",
       "      <th>altitude</th>\n",
       "      <th>date_time</th>\n",
       "      <th>device_info_serial</th>\n",
       "      <th>direction</th>\n",
       "      <th>latitude</th>\n",
       "      <th>longitude</th>\n",
       "      <th>speed_2d</th>\n",
       "      <th>bird_name</th>\n",
       "      <th>date</th>\n",
       "    </tr>\n",
       "  </thead>\n",
       "  <tbody>\n",
       "    <tr>\n",
       "      <th>0</th>\n",
       "      <td>71</td>\n",
       "      <td>2013-08-15 00:18:08+00</td>\n",
       "      <td>851</td>\n",
       "      <td>-150.469753</td>\n",
       "      <td>49.419860</td>\n",
       "      <td>2.120733</td>\n",
       "      <td>0.150000</td>\n",
       "      <td>Eric</td>\n",
       "      <td>2013-08-15</td>\n",
       "    </tr>\n",
       "    <tr>\n",
       "      <th>1</th>\n",
       "      <td>68</td>\n",
       "      <td>2013-08-15 00:48:07+00</td>\n",
       "      <td>851</td>\n",
       "      <td>-136.151141</td>\n",
       "      <td>49.419880</td>\n",
       "      <td>2.120746</td>\n",
       "      <td>2.438360</td>\n",
       "      <td>Eric</td>\n",
       "      <td>2013-08-15</td>\n",
       "    </tr>\n",
       "    <tr>\n",
       "      <th>2</th>\n",
       "      <td>68</td>\n",
       "      <td>2013-08-15 01:17:58+00</td>\n",
       "      <td>851</td>\n",
       "      <td>160.797477</td>\n",
       "      <td>49.420310</td>\n",
       "      <td>2.120885</td>\n",
       "      <td>0.596657</td>\n",
       "      <td>Eric</td>\n",
       "      <td>2013-08-15</td>\n",
       "    </tr>\n",
       "    <tr>\n",
       "      <th>3</th>\n",
       "      <td>73</td>\n",
       "      <td>2013-08-15 01:47:51+00</td>\n",
       "      <td>851</td>\n",
       "      <td>32.769360</td>\n",
       "      <td>49.420359</td>\n",
       "      <td>2.120859</td>\n",
       "      <td>0.310161</td>\n",
       "      <td>Eric</td>\n",
       "      <td>2013-08-15</td>\n",
       "    </tr>\n",
       "    <tr>\n",
       "      <th>4</th>\n",
       "      <td>69</td>\n",
       "      <td>2013-08-15 02:17:42+00</td>\n",
       "      <td>851</td>\n",
       "      <td>45.191230</td>\n",
       "      <td>49.420331</td>\n",
       "      <td>2.120887</td>\n",
       "      <td>0.193132</td>\n",
       "      <td>Eric</td>\n",
       "      <td>2013-08-15</td>\n",
       "    </tr>\n",
       "  </tbody>\n",
       "</table>\n",
       "</div>"
      ],
      "text/plain": [
       "   altitude               date_time  device_info_serial   direction  \\\n",
       "0        71  2013-08-15 00:18:08+00                 851 -150.469753   \n",
       "1        68  2013-08-15 00:48:07+00                 851 -136.151141   \n",
       "2        68  2013-08-15 01:17:58+00                 851  160.797477   \n",
       "3        73  2013-08-15 01:47:51+00                 851   32.769360   \n",
       "4        69  2013-08-15 02:17:42+00                 851   45.191230   \n",
       "\n",
       "    latitude  longitude  speed_2d bird_name       date  \n",
       "0  49.419860   2.120733  0.150000      Eric 2013-08-15  \n",
       "1  49.419880   2.120746  2.438360      Eric 2013-08-15  \n",
       "2  49.420310   2.120885  0.596657      Eric 2013-08-15  \n",
       "3  49.420359   2.120859  0.310161      Eric 2013-08-15  \n",
       "4  49.420331   2.120887  0.193132      Eric 2013-08-15  "
      ]
     },
     "execution_count": 5,
     "metadata": {},
     "output_type": "execute_result"
    }
   ],
   "source": [
    "# Convert birddata.date_time to the `pd.datetime` format.\n",
    "#birddata.date_time = pd.datetime\n",
    "import datetime\n",
    "\n",
    "timestamps = []\n",
    "for k in range(len(birddata)):\n",
    "    datestring = birddata.date_time.iloc[k][:-12]\n",
    "    timestamps.append(datetime.datetime.strptime(datestring,'%Y-%m-%d'))\n",
    "    \n",
    "# Create a new column of day of observation\n",
    "birddata[\"date\"] =  pd.Series(timestamps,index=birddata.index)\n",
    "birddata.head()"
   ]
  },
  {
   "cell_type": "code",
   "execution_count": 6,
   "metadata": {},
   "outputs": [
    {
     "data": {
      "text/plain": [
       "date\n",
       "2013-08-15    134.092000\n",
       "2013-08-16    134.839506\n",
       "2013-08-17    147.439024\n",
       "2013-08-18    129.608163\n",
       "2013-08-19    180.174797\n",
       "Name: altitude, dtype: float64"
      ]
     },
     "execution_count": 6,
     "metadata": {},
     "output_type": "execute_result"
    }
   ],
   "source": [
    "# Use `groupby()` to group the data by date.\n",
    "grouped_bydates = birddata.groupby(['date'])\n",
    "\n",
    "# Find the mean `altitude` for each date.\n",
    "mean_altitudes_perday = grouped_bydates['altitude'].mean()\n",
    "mean_altitudes_perday.head()"
   ]
  },
  {
   "cell_type": "markdown",
   "metadata": {},
   "source": [
    "### Exercise 3\n",
    "\n",
    "In this exercise, we will group the flight times by both bird and date, and calculate the mean altitude for each.\n",
    "\n",
    "#### Instructions \n",
    "- `birddata` already contains the `date` column. To find the average speed for each bird and day, create a new grouped dataframe called `grouped_birdday` that groups the data by both `bird_name` and date."
   ]
  },
  {
   "cell_type": "code",
   "execution_count": 9,
   "metadata": {},
   "outputs": [
    {
     "data": {
      "text/plain": [
       "bird_name  date      \n",
       "Eric       2013-08-15     74.988095\n",
       "           2013-08-16    127.773810\n",
       "           2013-08-17    125.890244\n",
       "           2013-08-18    121.353659\n",
       "           2013-08-19    134.928571\n",
       "Name: altitude, dtype: float64"
      ]
     },
     "execution_count": 9,
     "metadata": {},
     "output_type": "execute_result"
    }
   ],
   "source": [
    "# Use `groupby()` to group the data by bird and date.\n",
    "grouped_birdday = birddata.groupby(['bird_name','date'])\n",
    "\n",
    "# Find the mean `altitude` for each bird and date.\n",
    "mean_altitudes_perday = birddata.groupby(['bird_name','date'])['altitude'].mean()\n",
    "mean_altitudes_perday.head()"
   ]
  },
  {
   "cell_type": "markdown",
   "metadata": {},
   "source": [
    "### Exercise 4\n",
    "\n",
    "Great! Now find the average speed for each bird and day.\n",
    "\n",
    "#### Instructions \n",
    "\n",
    "- Store these are three `pandas` `Series` objects, one for each bird.\n",
    "- Use the plotting code provided to plot the average speeds for each bird."
   ]
  },
  {
   "cell_type": "code",
   "execution_count": 42,
   "metadata": {},
   "outputs": [
    {
     "name": "stdout",
     "output_type": "stream",
     "text": [
      "date\n",
      "2013-08-15    2.121517\n",
      "2013-08-16    2.618113\n",
      "2013-08-17    1.765809\n",
      "2013-08-18    2.951171\n",
      "2013-08-19    2.435545\n",
      "2013-08-20    1.830796\n",
      "2013-08-21    2.544896\n",
      "2013-08-22    1.521631\n",
      "2013-08-23    1.614263\n",
      "2013-08-24    1.489674\n",
      "2013-08-25    2.011456\n",
      "2013-08-26    1.723540\n",
      "2013-08-27    1.537525\n",
      "2013-08-28    2.092783\n",
      "2013-08-29    2.008312\n",
      "2013-08-30    2.659326\n",
      "2013-08-31    2.326943\n",
      "2013-09-01    2.646058\n",
      "2013-09-02    2.929891\n",
      "2013-09-03    1.934013\n",
      "2013-09-04    2.286683\n",
      "2013-09-05    1.641806\n",
      "2013-09-06    1.748896\n",
      "2013-09-07    2.973375\n",
      "2013-09-08    1.886500\n",
      "2013-09-09    1.349644\n",
      "2013-09-10    2.004686\n",
      "2013-09-11    2.691731\n",
      "2013-09-12    2.245752\n",
      "2013-09-13    1.990713\n",
      "                ...   \n",
      "2014-04-01    8.981696\n",
      "2014-04-02    3.194877\n",
      "2014-04-03    4.559829\n",
      "2014-04-04    9.129566\n",
      "2014-04-05    6.759870\n",
      "2014-04-06    2.941787\n",
      "2014-04-07    3.361262\n",
      "2014-04-08    1.916803\n",
      "2014-04-09    2.332031\n",
      "2014-04-10    3.178871\n",
      "2014-04-11    1.753216\n",
      "2014-04-12    3.171043\n",
      "2014-04-13    2.623030\n",
      "2014-04-14    1.976287\n",
      "2014-04-15    2.067355\n",
      "2014-04-16    1.497621\n",
      "2014-04-17    1.760669\n",
      "2014-04-18    3.111882\n",
      "2014-04-19    1.280959\n",
      "2014-04-20    2.974660\n",
      "2014-04-21    3.147831\n",
      "2014-04-22    2.003168\n",
      "2014-04-23    1.964935\n",
      "2014-04-24    2.102624\n",
      "2014-04-25    2.484277\n",
      "2014-04-26    2.262308\n",
      "2014-04-27    2.667432\n",
      "2014-04-28    2.159156\n",
      "2014-04-29    2.371772\n",
      "2014-04-30    2.548936\n",
      "Name: speed_2d, dtype: float64\n"
     ]
    }
   ],
   "source": [
    "import matplotlib.pyplot as plt\n",
    "\n",
    "eric_daily_speed  =  birddata[['date','speed_2d']].where(birddata.bird_name==\"Eric\").groupby('date')['speed_2d'].mean()\n",
    "sanne_daily_speed = birddata[['date','speed_2d']].where(birddata.bird_name==\"Sanne\").groupby('date')['speed_2d'].mean()\n",
    "nico_daily_speed  = birddata[['date','speed_2d']].where(birddata.bird_name==\"Nico\").groupby('date')['speed_2d'].mean() \n",
    "\n",
    "print(eric_daily_speed)\n",
    "#[birddata.bird_name==\"Sanne\"]['speed_2d'].mean()"
   ]
  },
  {
   "cell_type": "code",
   "execution_count": 43,
   "metadata": {},
   "outputs": [
    {
     "name": "stdout",
     "output_type": "stream",
     "text": [
      "date\n",
      "2013-08-15    3.392506\n",
      "2013-08-16    2.328489\n",
      "2013-08-17    2.124465\n",
      "2013-08-18    3.064796\n",
      "2013-08-19    2.542491\n",
      "2013-08-20    1.516986\n",
      "2013-08-21    1.454588\n",
      "2013-08-22    1.812962\n",
      "2013-08-23    1.907249\n",
      "2013-08-24    2.239438\n",
      "2013-08-25    2.270307\n",
      "2013-08-26    1.852654\n",
      "2013-08-27    2.687977\n",
      "2013-08-28    3.585297\n",
      "2013-08-29    5.633538\n",
      "2013-08-30    4.237694\n",
      "2013-08-31    7.915105\n",
      "2013-09-01    3.968834\n",
      "2013-09-02    2.023563\n",
      "2013-09-03    2.377811\n",
      "2013-09-04    2.525264\n",
      "2013-09-05    4.500264\n",
      "2013-09-06    3.228437\n",
      "2013-09-07    5.214725\n",
      "2013-09-08    3.393772\n",
      "2013-09-09    2.142208\n",
      "2013-09-10    3.406165\n",
      "2013-09-11    2.252867\n",
      "2013-09-12    2.706431\n",
      "2013-09-13    3.475850\n",
      "                ...   \n",
      "2014-04-01    2.530203\n",
      "2014-04-02    2.229710\n",
      "2014-04-03    2.384229\n",
      "2014-04-04    2.317938\n",
      "2014-04-05    3.732691\n",
      "2014-04-06    2.783725\n",
      "2014-04-07    3.478148\n",
      "2014-04-08    3.257080\n",
      "2014-04-09    3.791651\n",
      "2014-04-10    2.063284\n",
      "2014-04-11    3.230057\n",
      "2014-04-12    1.528771\n",
      "2014-04-13    3.855876\n",
      "2014-04-14    7.807300\n",
      "2014-04-15    8.072855\n",
      "2014-04-16    7.148940\n",
      "2014-04-17    6.487150\n",
      "2014-04-18    3.705867\n",
      "2014-04-19    4.997884\n",
      "2014-04-20    2.946335\n",
      "2014-04-21    2.898574\n",
      "2014-04-22    2.288038\n",
      "2014-04-23    3.685814\n",
      "2014-04-24    2.169261\n",
      "2014-04-25    2.640845\n",
      "2014-04-26    1.056218\n",
      "2014-04-27    2.439322\n",
      "2014-04-28    3.344398\n",
      "2014-04-29    2.220966\n",
      "2014-04-30    1.814705\n",
      "Name: speed_2d, dtype: float64\n"
     ]
    }
   ],
   "source": [
    "print(sanne_daily_speed)"
   ]
  },
  {
   "cell_type": "code",
   "execution_count": 44,
   "metadata": {},
   "outputs": [
    {
     "name": "stdout",
     "output_type": "stream",
     "text": [
      "date\n",
      "2013-08-15     2.856924\n",
      "2013-08-16     3.386387\n",
      "2013-08-17     3.123210\n",
      "2013-08-18     2.785776\n",
      "2013-08-19     2.920577\n",
      "2013-08-20     2.730114\n",
      "2013-08-21     2.759074\n",
      "2013-08-22     2.020524\n",
      "2013-08-23     3.152283\n",
      "2013-08-24     1.840692\n",
      "2013-08-25     2.154902\n",
      "2013-08-26     2.506818\n",
      "2013-08-27     2.476388\n",
      "2013-08-28     2.462865\n",
      "2013-08-29     2.823951\n",
      "2013-08-30     2.445771\n",
      "2013-08-31     2.725194\n",
      "2013-09-01     2.480032\n",
      "2013-09-02     1.876902\n",
      "2013-09-03     2.276983\n",
      "2013-09-04     3.282450\n",
      "2013-09-05     2.507296\n",
      "2013-09-06     1.989307\n",
      "2013-09-07     1.832832\n",
      "2013-09-08     1.857287\n",
      "2013-09-09     2.198939\n",
      "2013-09-10     2.434254\n",
      "2013-09-11     2.819172\n",
      "2013-09-12     2.361830\n",
      "2013-09-13     2.713215\n",
      "                ...    \n",
      "2014-04-01     3.163723\n",
      "2014-04-02     2.861222\n",
      "2014-04-03     3.212099\n",
      "2014-04-04     2.832465\n",
      "2014-04-05     3.283842\n",
      "2014-04-06     2.824700\n",
      "2014-04-07     3.455989\n",
      "2014-04-08     2.995421\n",
      "2014-04-09     3.780186\n",
      "2014-04-10     3.703409\n",
      "2014-04-11     2.829536\n",
      "2014-04-12     3.341111\n",
      "2014-04-13     3.878121\n",
      "2014-04-14     3.882314\n",
      "2014-04-15     4.437659\n",
      "2014-04-16     3.366451\n",
      "2014-04-17     3.713230\n",
      "2014-04-18     3.798646\n",
      "2014-04-19     5.061530\n",
      "2014-04-20    10.196981\n",
      "2014-04-21     7.861385\n",
      "2014-04-22     9.445087\n",
      "2014-04-23     6.384096\n",
      "2014-04-24     2.674536\n",
      "2014-04-25     2.705160\n",
      "2014-04-26     2.192028\n",
      "2014-04-27     2.582072\n",
      "2014-04-28     3.055051\n",
      "2014-04-29     2.793232\n",
      "2014-04-30     3.297032\n",
      "Name: speed_2d, dtype: float64\n"
     ]
    }
   ],
   "source": [
    "print(nico_daily_speed)"
   ]
  },
  {
   "cell_type": "code",
   "execution_count": 41,
   "metadata": {},
   "outputs": [
    {
     "data": {
      "image/png": "[encoded data removed]",
      "text/plain": [
       "<matplotlib.figure.Figure at 0x7f51e8d8a908>"
      ]
     },
     "metadata": {},
     "output_type": "display_data"
    }
   ],
   "source": [
    "eric_daily_speed.plot(label=\"Eric\")\n",
    "sanne_daily_speed.plot(label=\"Sanne\")\n",
    "nico_daily_speed.plot(label=\"Nico\")\n",
    "plt.legend(loc=\"upper left\")\n",
    "plt.show()"
   ]
  },
  {
   "cell_type": "code",
   "execution_count": null,
   "metadata": {},
   "outputs": [],
   "source": []
  }
 ],
 "metadata": {
  "kernelspec": {
   "display_name": "Python 3",
   "language": "python",
   "name": "python3"
  },
  "language_info": {
   "codemirror_mode": {
    "name": "ipython",
    "version": 3
   },
   "file_extension": ".py",
   "mimetype": "text/x-python",
   "name": "python",
   "nbconvert_exporter": "python",
   "pygments_lexer": "ipython3",
   "version": "3.5.4"
  },
  "toc": {
   "base_numbering": 1,
   "nav_menu": {},
   "number_sections": true,
   "sideBar": true,
   "skip_h1_title": false,
   "title_cell": "Table of Contents",
   "title_sidebar": "Contents",
   "toc_cell": false,
   "toc_position": {},
   "toc_section_display": true,
   "toc_window_display": false
  }
 },
 "nbformat": 4,
 "nbformat_minor": 2
}
