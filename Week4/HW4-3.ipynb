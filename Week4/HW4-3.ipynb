{
 "cells": [
  {
   "cell_type": "markdown",
   "metadata": {},
   "source": [
    "# Using Python for Research Homework: Week 4, Case Study 3\n",
    "\n",
    "Homophily is a property of networks.  Homophily occurs when nodes that are neighbors in a network also share a characteristic more often than nodes that are not network neighbors.  In this case study, we will investigate homophily of several characteristics of individuals connected in social networks in rural India."
   ]
  },
  {
   "cell_type": "markdown",
   "metadata": {},
   "source": [
    "### Exercise 1\n",
    "In Exercise 1, we will calculate the chance homophily for an arbitrary characteristic. Homophily is the proportion of edges in the network whose constituent nodes share that characteristic.\n",
    "\n",
    "How much homophily do we expect by chance? If characteristics are distributed completely randomly, the probability that two nodes \\(x\\) and \\(y\\) share characteristic \\(a\\) is the probability both nodes have characteristic \\(a\\) , which is the marginal probability of \\(a\\) squared. The total probability that nodes \\(x\\) and \\(y\\) share their characteristic is therefore the sum of the square of the marginal probabilities of each characteristic in the network.\n",
    "\n",
    "<strong>Instructions</strong>\n",
    "<ul><li>Create a function <code>marginal_prob</code> that takes a dictionary <code>chars</code> with personal IDs as keys and characteristics as values; it should return a dictionary with characteristics as keys and their marginal probability (frequency of occurence of a characteristic divided by the sum of frequencies of each characteristic) as values.</li>\n",
    "<li>Create a function <code>chance_homophily(chars)</code> that takes a dictionary <code>chars</code> defined as above and computes the chance homophily (homophily due to chance alone) for that characteristic.</li>\n",
    "<li>A sample of three peoples' favorite colors is given in <code>favorite_colors</code>. Use your function to compute the chance homophily in this group, and store it as <code>color_homophily</code>.</li>\n",
    "<li>Print <code>color_homophily</code>.</li></ul>"
   ]
  },
  {
   "cell_type": "code",
   "execution_count": 1,
   "metadata": {},
   "outputs": [
    {
     "name": "stdout",
     "output_type": "stream",
     "text": [
      "0.5555555555555556\n"
     ]
    }
   ],
   "source": [
    "from collections import Counter\n",
    "import numpy as np\n",
    "\n",
    "#def marginal_prob(chars):\n",
    "#    char_dict = []\n",
    "#    for key, value in chars.items():\n",
    "#        char_dict[key] = value\n",
    "        \n",
    "def chance_homophily(chars):\n",
    "    chars_counts_dict = Counter(chars.values())\n",
    "    chars_counts = np.array(list(chars_counts_dict.values()))\n",
    "    chars_props  = chars_counts / sum(chars_counts)\n",
    "    return sum(chars_props**2)\n",
    "\n",
    "favorite_colors = {\n",
    "    \"ankit\":  \"red\",\n",
    "    \"xiaoyu\": \"blue\",\n",
    "    \"mary\":   \"blue\"\n",
    "}\n",
    "\n",
    "color_homophily = chance_homophily(favorite_colors)\n",
    "print(color_homophily)"
   ]
  },
  {
   "cell_type": "markdown",
   "metadata": {},
   "source": [
    "### Exercise 2\n",
    "\n",
    "In the remaining exercises, we will calculate actual homophily in these village and compare the obtained values to those obtained by chance. In this exercise, we subset the data into individual villages and store them.\n",
    "\n",
    "#### Instructions \n",
    "\n",
    "- `individual_characteristics.dta` contains several characteristics for each individual in the dataset such as age, religion, and caste. Use the `pandas` library to read in and store these characteristics as a dataframe called `df`.\n",
    "- Store separate datasets for individuals belonging to Villages 1 and 2 as `df1` and `df2`, respectively.\n",
    "- Note that some attributes may be missing for some individuals. In this case study, we will ignore rows of data where some column information is missing.\n",
    "- Use the head method to display the first few entries of `df1`."
   ]
  },
  {
   "cell_type": "code",
   "execution_count": 2,
   "metadata": {},
   "outputs": [
    {
     "data": {
      "text/html": [
       "<div>\n",
       "<table border=\"1\" class=\"dataframe\">\n",
       "  <thead>\n",
       "    <tr style=\"text-align: right;\">\n",
       "      <th></th>\n",
       "      <th>village</th>\n",
       "      <th>adjmatrix_key</th>\n",
       "      <th>pid</th>\n",
       "      <th>hhid</th>\n",
       "      <th>resp_id</th>\n",
       "      <th>resp_gend</th>\n",
       "      <th>resp_status</th>\n",
       "      <th>age</th>\n",
       "      <th>religion</th>\n",
       "      <th>caste</th>\n",
       "      <th>...</th>\n",
       "      <th>privategovt</th>\n",
       "      <th>work_outside</th>\n",
       "      <th>work_outside_freq</th>\n",
       "      <th>shgparticipate</th>\n",
       "      <th>shg_no</th>\n",
       "      <th>savings</th>\n",
       "      <th>savings_no</th>\n",
       "      <th>electioncard</th>\n",
       "      <th>rationcard</th>\n",
       "      <th>rationcard_colour</th>\n",
       "    </tr>\n",
       "  </thead>\n",
       "  <tbody>\n",
       "    <tr>\n",
       "      <th>0</th>\n",
       "      <td>1</td>\n",
       "      <td>5</td>\n",
       "      <td>100201</td>\n",
       "      <td>1002</td>\n",
       "      <td>1</td>\n",
       "      <td>1</td>\n",
       "      <td>Head of Household</td>\n",
       "      <td>38</td>\n",
       "      <td>HINDUISM</td>\n",
       "      <td>OBC</td>\n",
       "      <td>...</td>\n",
       "      <td>PRIVATE BUSINESS</td>\n",
       "      <td>Yes</td>\n",
       "      <td>0.0</td>\n",
       "      <td>No</td>\n",
       "      <td>NaN</td>\n",
       "      <td>No</td>\n",
       "      <td>NaN</td>\n",
       "      <td>Yes</td>\n",
       "      <td>Yes</td>\n",
       "      <td>GREEN</td>\n",
       "    </tr>\n",
       "    <tr>\n",
       "      <th>1</th>\n",
       "      <td>1</td>\n",
       "      <td>6</td>\n",
       "      <td>100202</td>\n",
       "      <td>1002</td>\n",
       "      <td>2</td>\n",
       "      <td>2</td>\n",
       "      <td>Spouse of Head of Household</td>\n",
       "      <td>27</td>\n",
       "      <td>HINDUISM</td>\n",
       "      <td>OBC</td>\n",
       "      <td>...</td>\n",
       "      <td>NaN</td>\n",
       "      <td>NaN</td>\n",
       "      <td>NaN</td>\n",
       "      <td>No</td>\n",
       "      <td>NaN</td>\n",
       "      <td>No</td>\n",
       "      <td>NaN</td>\n",
       "      <td>Yes</td>\n",
       "      <td>Yes</td>\n",
       "      <td>GREEN</td>\n",
       "    </tr>\n",
       "    <tr>\n",
       "      <th>2</th>\n",
       "      <td>1</td>\n",
       "      <td>23</td>\n",
       "      <td>100601</td>\n",
       "      <td>1006</td>\n",
       "      <td>1</td>\n",
       "      <td>1</td>\n",
       "      <td>Head of Household</td>\n",
       "      <td>29</td>\n",
       "      <td>HINDUISM</td>\n",
       "      <td>OBC</td>\n",
       "      <td>...</td>\n",
       "      <td>OTHER LAND</td>\n",
       "      <td>No</td>\n",
       "      <td>NaN</td>\n",
       "      <td>No</td>\n",
       "      <td>NaN</td>\n",
       "      <td>No</td>\n",
       "      <td>NaN</td>\n",
       "      <td>Yes</td>\n",
       "      <td>Yes</td>\n",
       "      <td>GREEN</td>\n",
       "    </tr>\n",
       "    <tr>\n",
       "      <th>3</th>\n",
       "      <td>1</td>\n",
       "      <td>24</td>\n",
       "      <td>100602</td>\n",
       "      <td>1006</td>\n",
       "      <td>2</td>\n",
       "      <td>2</td>\n",
       "      <td>Spouse of Head of Household</td>\n",
       "      <td>24</td>\n",
       "      <td>HINDUISM</td>\n",
       "      <td>OBC</td>\n",
       "      <td>...</td>\n",
       "      <td>PRIVATE BUSINESS</td>\n",
       "      <td>No</td>\n",
       "      <td>NaN</td>\n",
       "      <td>Yes</td>\n",
       "      <td>1.0</td>\n",
       "      <td>Yes</td>\n",
       "      <td>1.0</td>\n",
       "      <td>Yes</td>\n",
       "      <td>No</td>\n",
       "      <td>NaN</td>\n",
       "    </tr>\n",
       "    <tr>\n",
       "      <th>4</th>\n",
       "      <td>1</td>\n",
       "      <td>27</td>\n",
       "      <td>100701</td>\n",
       "      <td>1007</td>\n",
       "      <td>1</td>\n",
       "      <td>1</td>\n",
       "      <td>Head of Household</td>\n",
       "      <td>58</td>\n",
       "      <td>HINDUISM</td>\n",
       "      <td>OBC</td>\n",
       "      <td>...</td>\n",
       "      <td>OTHER LAND</td>\n",
       "      <td>No</td>\n",
       "      <td>NaN</td>\n",
       "      <td>No</td>\n",
       "      <td>NaN</td>\n",
       "      <td>No</td>\n",
       "      <td>NaN</td>\n",
       "      <td>Yes</td>\n",
       "      <td>Yes</td>\n",
       "      <td>GREEN</td>\n",
       "    </tr>\n",
       "  </tbody>\n",
       "</table>\n",
       "<p>5 rows × 48 columns</p>\n",
       "</div>"
      ],
      "text/plain": [
       "   village  adjmatrix_key     pid  hhid  resp_id  resp_gend  \\\n",
       "0        1              5  100201  1002        1          1   \n",
       "1        1              6  100202  1002        2          2   \n",
       "2        1             23  100601  1006        1          1   \n",
       "3        1             24  100602  1006        2          2   \n",
       "4        1             27  100701  1007        1          1   \n",
       "\n",
       "                   resp_status  age  religion caste        ...         \\\n",
       "0            Head of Household   38  HINDUISM   OBC        ...          \n",
       "1  Spouse of Head of Household   27  HINDUISM   OBC        ...          \n",
       "2            Head of Household   29  HINDUISM   OBC        ...          \n",
       "3  Spouse of Head of Household   24  HINDUISM   OBC        ...          \n",
       "4            Head of Household   58  HINDUISM   OBC        ...          \n",
       "\n",
       "        privategovt work_outside work_outside_freq shgparticipate shg_no  \\\n",
       "0  PRIVATE BUSINESS          Yes               0.0             No    NaN   \n",
       "1               NaN          NaN               NaN             No    NaN   \n",
       "2        OTHER LAND           No               NaN             No    NaN   \n",
       "3  PRIVATE BUSINESS           No               NaN            Yes    1.0   \n",
       "4        OTHER LAND           No               NaN             No    NaN   \n",
       "\n",
       "  savings savings_no electioncard rationcard rationcard_colour  \n",
       "0      No        NaN          Yes        Yes             GREEN  \n",
       "1      No        NaN          Yes        Yes             GREEN  \n",
       "2      No        NaN          Yes        Yes             GREEN  \n",
       "3     Yes        1.0          Yes         No               NaN  \n",
       "4      No        NaN          Yes        Yes             GREEN  \n",
       "\n",
       "[5 rows x 48 columns]"
      ]
     },
     "execution_count": 2,
     "metadata": {},
     "output_type": "execute_result"
    }
   ],
   "source": [
    "import pandas as pd\n",
    "\n",
    "df  = pd.read_csv(\"asset-v1_HarvardX+PH526x+2T2019+type@asset+block@individual_characteristics.csv\", low_memory=False, index_col=0)\n",
    "df.head()"
   ]
  },
  {
   "cell_type": "code",
   "execution_count": 3,
   "metadata": {},
   "outputs": [
    {
     "data": {
      "text/html": [
       "<div>\n",
       "<table border=\"1\" class=\"dataframe\">\n",
       "  <thead>\n",
       "    <tr style=\"text-align: right;\">\n",
       "      <th></th>\n",
       "      <th>village</th>\n",
       "      <th>adjmatrix_key</th>\n",
       "      <th>pid</th>\n",
       "      <th>hhid</th>\n",
       "      <th>resp_id</th>\n",
       "      <th>resp_gend</th>\n",
       "      <th>resp_status</th>\n",
       "      <th>age</th>\n",
       "      <th>religion</th>\n",
       "      <th>caste</th>\n",
       "      <th>...</th>\n",
       "      <th>privategovt</th>\n",
       "      <th>work_outside</th>\n",
       "      <th>work_outside_freq</th>\n",
       "      <th>shgparticipate</th>\n",
       "      <th>shg_no</th>\n",
       "      <th>savings</th>\n",
       "      <th>savings_no</th>\n",
       "      <th>electioncard</th>\n",
       "      <th>rationcard</th>\n",
       "      <th>rationcard_colour</th>\n",
       "    </tr>\n",
       "  </thead>\n",
       "  <tbody>\n",
       "    <tr>\n",
       "      <th>0</th>\n",
       "      <td>1</td>\n",
       "      <td>5</td>\n",
       "      <td>100201</td>\n",
       "      <td>1002</td>\n",
       "      <td>1</td>\n",
       "      <td>1</td>\n",
       "      <td>Head of Household</td>\n",
       "      <td>38</td>\n",
       "      <td>HINDUISM</td>\n",
       "      <td>OBC</td>\n",
       "      <td>...</td>\n",
       "      <td>PRIVATE BUSINESS</td>\n",
       "      <td>Yes</td>\n",
       "      <td>0.0</td>\n",
       "      <td>No</td>\n",
       "      <td>NaN</td>\n",
       "      <td>No</td>\n",
       "      <td>NaN</td>\n",
       "      <td>Yes</td>\n",
       "      <td>Yes</td>\n",
       "      <td>GREEN</td>\n",
       "    </tr>\n",
       "    <tr>\n",
       "      <th>1</th>\n",
       "      <td>1</td>\n",
       "      <td>6</td>\n",
       "      <td>100202</td>\n",
       "      <td>1002</td>\n",
       "      <td>2</td>\n",
       "      <td>2</td>\n",
       "      <td>Spouse of Head of Household</td>\n",
       "      <td>27</td>\n",
       "      <td>HINDUISM</td>\n",
       "      <td>OBC</td>\n",
       "      <td>...</td>\n",
       "      <td>NaN</td>\n",
       "      <td>NaN</td>\n",
       "      <td>NaN</td>\n",
       "      <td>No</td>\n",
       "      <td>NaN</td>\n",
       "      <td>No</td>\n",
       "      <td>NaN</td>\n",
       "      <td>Yes</td>\n",
       "      <td>Yes</td>\n",
       "      <td>GREEN</td>\n",
       "    </tr>\n",
       "    <tr>\n",
       "      <th>2</th>\n",
       "      <td>1</td>\n",
       "      <td>23</td>\n",
       "      <td>100601</td>\n",
       "      <td>1006</td>\n",
       "      <td>1</td>\n",
       "      <td>1</td>\n",
       "      <td>Head of Household</td>\n",
       "      <td>29</td>\n",
       "      <td>HINDUISM</td>\n",
       "      <td>OBC</td>\n",
       "      <td>...</td>\n",
       "      <td>OTHER LAND</td>\n",
       "      <td>No</td>\n",
       "      <td>NaN</td>\n",
       "      <td>No</td>\n",
       "      <td>NaN</td>\n",
       "      <td>No</td>\n",
       "      <td>NaN</td>\n",
       "      <td>Yes</td>\n",
       "      <td>Yes</td>\n",
       "      <td>GREEN</td>\n",
       "    </tr>\n",
       "    <tr>\n",
       "      <th>3</th>\n",
       "      <td>1</td>\n",
       "      <td>24</td>\n",
       "      <td>100602</td>\n",
       "      <td>1006</td>\n",
       "      <td>2</td>\n",
       "      <td>2</td>\n",
       "      <td>Spouse of Head of Household</td>\n",
       "      <td>24</td>\n",
       "      <td>HINDUISM</td>\n",
       "      <td>OBC</td>\n",
       "      <td>...</td>\n",
       "      <td>PRIVATE BUSINESS</td>\n",
       "      <td>No</td>\n",
       "      <td>NaN</td>\n",
       "      <td>Yes</td>\n",
       "      <td>1.0</td>\n",
       "      <td>Yes</td>\n",
       "      <td>1.0</td>\n",
       "      <td>Yes</td>\n",
       "      <td>No</td>\n",
       "      <td>NaN</td>\n",
       "    </tr>\n",
       "    <tr>\n",
       "      <th>4</th>\n",
       "      <td>1</td>\n",
       "      <td>27</td>\n",
       "      <td>100701</td>\n",
       "      <td>1007</td>\n",
       "      <td>1</td>\n",
       "      <td>1</td>\n",
       "      <td>Head of Household</td>\n",
       "      <td>58</td>\n",
       "      <td>HINDUISM</td>\n",
       "      <td>OBC</td>\n",
       "      <td>...</td>\n",
       "      <td>OTHER LAND</td>\n",
       "      <td>No</td>\n",
       "      <td>NaN</td>\n",
       "      <td>No</td>\n",
       "      <td>NaN</td>\n",
       "      <td>No</td>\n",
       "      <td>NaN</td>\n",
       "      <td>Yes</td>\n",
       "      <td>Yes</td>\n",
       "      <td>GREEN</td>\n",
       "    </tr>\n",
       "  </tbody>\n",
       "</table>\n",
       "<p>5 rows × 48 columns</p>\n",
       "</div>"
      ],
      "text/plain": [
       "   village  adjmatrix_key     pid  hhid  resp_id  resp_gend  \\\n",
       "0        1              5  100201  1002        1          1   \n",
       "1        1              6  100202  1002        2          2   \n",
       "2        1             23  100601  1006        1          1   \n",
       "3        1             24  100602  1006        2          2   \n",
       "4        1             27  100701  1007        1          1   \n",
       "\n",
       "                   resp_status  age  religion caste        ...         \\\n",
       "0            Head of Household   38  HINDUISM   OBC        ...          \n",
       "1  Spouse of Head of Household   27  HINDUISM   OBC        ...          \n",
       "2            Head of Household   29  HINDUISM   OBC        ...          \n",
       "3  Spouse of Head of Household   24  HINDUISM   OBC        ...          \n",
       "4            Head of Household   58  HINDUISM   OBC        ...          \n",
       "\n",
       "        privategovt work_outside work_outside_freq shgparticipate shg_no  \\\n",
       "0  PRIVATE BUSINESS          Yes               0.0             No    NaN   \n",
       "1               NaN          NaN               NaN             No    NaN   \n",
       "2        OTHER LAND           No               NaN             No    NaN   \n",
       "3  PRIVATE BUSINESS           No               NaN            Yes    1.0   \n",
       "4        OTHER LAND           No               NaN             No    NaN   \n",
       "\n",
       "  savings savings_no electioncard rationcard rationcard_colour  \n",
       "0      No        NaN          Yes        Yes             GREEN  \n",
       "1      No        NaN          Yes        Yes             GREEN  \n",
       "2      No        NaN          Yes        Yes             GREEN  \n",
       "3     Yes        1.0          Yes         No               NaN  \n",
       "4      No        NaN          Yes        Yes             GREEN  \n",
       "\n",
       "[5 rows x 48 columns]"
      ]
     },
     "execution_count": 3,
     "metadata": {},
     "output_type": "execute_result"
    }
   ],
   "source": [
    "df1 = df.loc[df['village']==1]\n",
    "df2 = df.loc[df['village']==2]\n",
    "\n",
    "df1.head()"
   ]
  },
  {
   "cell_type": "code",
   "execution_count": 4,
   "metadata": {},
   "outputs": [
    {
     "data": {
      "text/plain": [
       "Index(['village', 'adjmatrix_key', 'pid', 'hhid', 'resp_id', 'resp_gend',\n",
       "       'resp_status', 'age', 'religion', 'caste', 'subcaste', 'mothertongue',\n",
       "       'speakother', 'kannada', 'tamil', 'telugu', 'hindi', 'urdu', 'english',\n",
       "       'otherlang', 'educ', 'villagenative', 'native_name', 'native_type',\n",
       "       'native_taluk', 'native_district', 'res_time_yrs', 'res_time_mths',\n",
       "       'movereason', 'movecontact', 'movecontact_res', 'movecontact_hhid',\n",
       "       'movecontact_pid', 'movecontact_name', 'workflag', 'work_freq',\n",
       "       'work_freq_type', 'occupation', 'privategovt', 'work_outside',\n",
       "       'work_outside_freq', 'shgparticipate', 'shg_no', 'savings',\n",
       "       'savings_no', 'electioncard', 'rationcard', 'rationcard_colour'],\n",
       "      dtype='object')"
      ]
     },
     "execution_count": 4,
     "metadata": {},
     "output_type": "execute_result"
    }
   ],
   "source": [
    "df2.columns"
   ]
  },
  {
   "cell_type": "code",
   "execution_count": 5,
   "metadata": {},
   "outputs": [
    {
     "name": "stdout",
     "output_type": "stream",
     "text": [
      "[{102401: 1, 102402: 2, 106501: 1, 106502: 1, 106503: 2, 104902: 2, 110601: 1, 110602: 2, 115202: 2, 114702: 2, 114703: 2, 115201: 1, 117301: 1, 104001: 1, 104002: 2, 108101: 1, 108102: 2, 115809: 2, 108104: 2, 112201: 1, 112202: 2, 103501: 1, 103502: 2, 114701: 1, 116304: 2, 116307: 1, 116308: 2, 116310: 1, 116311: 2, 115801: 1, 115802: 1, 115803: 2, 107101: 1, 107102: 2, 115807: 1, 115808: 2, 111201: 2, 111203: 2, 111204: 2, 111205: 1, 102001: 1, 102002: 2, 102004: 2, 108905: 1, 100202: 2, 114302: 1, 114303: 2, 113601: 1, 109701: 1, 109702: 2, 100801: 1, 113602: 2, 117101: 1, 109201: 1, 109202: 2, 113301: 1, 113302: 2, 117403: 2, 117404: 1, 104901: 1, 112801: 1, 112802: 2, 104101: 1, 104102: 2, 114801: 1, 116905: 2, 114802: 2, 111901: 1, 116401: 1, 116402: 2, 116501: 1, 103101: 1, 103102: 2, 103104: 2, 103105: 2, 106701: 1, 106702: 2, 106704: 2, 116502: 2, 102101: 1, 102102: 2, 102103: 1, 102104: 2, 106201: 1, 106202: 2, 106204: 1, 110301: 1, 110302: 2, 101601: 1, 101602: 2, 113901: 1, 113902: 2, 114301: 2, 105201: 1, 113401: 2, 100602: 2, 108801: 1, 108802: 2, 108803: 1, 108804: 2, 104201: 1, 104202: 2, 108301: 1, 108302: 2, 108304: 2, 103701: 1, 103702: 2, 107802: 2, 107803: 2, 107805: 1, 111902: 2, 111903: 1, 111904: 2, 103201: 1, 103202: 2, 107301: 1, 107302: 2, 107303: 1, 107304: 2, 107307: 1, 107308: 2, 115501: 1, 115502: 2, 106205: 2, 115504: 2, 106801: 1, 106802: 2, 116602: 2, 117102: 2, 105802: 2, 109901: 1, 109902: 2, 114001: 1, 114002: 2, 105301: 1, 105302: 2, 105303: 1, 105304: 2, 109401: 1, 109402: 2, 100701: 1, 100702: 2, 104801: 1, 104802: 2, 108901: 1, 108902: 2, 100201: 1, 108906: 2, 104301: 1, 104302: 2, 117103: 2, 117105: 1, 116601: 1, 116303: 1, 107901: 1, 103301: 1, 103302: 2, 107401: 1, 107402: 2, 111501: 1, 111502: 2, 115601: 1, 115503: 1, 110501: 1, 110502: 2, 114601: 1, 114602: 2, 105901: 1, 105902: 2, 100802: 2, 101301: 2, 101302: 2, 101303: 2, 105401: 1, 105402: 2, 105404: 2, 109501: 1, 109502: 2, 109505: 1, 109506: 2, 100805: 2, 100806: 1, 100807: 1, 100808: 2, 116301: 1, 117201: 1, 117202: 2, 117203: 2, 116302: 2, 100601: 1, 112601: 1, 112603: 2, 112604: 2, 112605: 1, 116901: 1, 116902: 2, 116201: 2, 116202: 1, 116203: 2, 116206: 1, 116207: 2, 102901: 1, 102902: 2}]\n"
     ]
    }
   ],
   "source": [
    "print(df1[['pid','resp_gend']].set_index('pid').T.to_dict('records'))"
   ]
  },
  {
   "cell_type": "markdown",
   "metadata": {},
   "source": [
    "### Exercise 3 \n",
    "\n",
    "In this exercise, we define a few dictionaries that enable us to look up the sex, caste, and religion of members of each village by personal ID. For Villages 1 and 2, their personal IDs are stored as `pid`.\n",
    "\n",
    "#### Instructions \n",
    "- Define dictionaries with personal IDs as keys and a given covariate for that individual as values. Complete this for the sex, caste, and religion covariates, for Villages 1 and 2.\n",
    "- For Village 1, store these dictionaries into variables named `sex1`, `caste1`, and `religion1`.\n",
    "- For Village 2, store these dictionaries into variables named `sex2`, `caste2`, and `religion2`."
   ]
  },
  {
   "cell_type": "code",
   "execution_count": 117,
   "metadata": {},
   "outputs": [],
   "source": [
    "#.set_index('pid').T.to_dict('index') \n",
    "sex1      = df1.set_index('pid')['resp_gend'].to_dict()\n",
    "caste1    = df1.set_index('pid')['caste'].to_dict() \n",
    "religion1 = df1.set_index('pid')['religion'].to_dict() \n",
    "\n",
    "sex2      = df2.set_index('pid')['resp_gend'].to_dict() \n",
    "caste2    = df2.set_index('pid')['caste'].to_dict() \n",
    "religion2 = df2.set_index('pid')['religion'].to_dict()"
   ]
  },
  {
   "cell_type": "code",
   "execution_count": 118,
   "metadata": {},
   "outputs": [
    {
     "data": {
      "text/plain": [
       "{100201: 1,\n",
       " 100202: 2,\n",
       " 100601: 1,\n",
       " 100602: 2,\n",
       " 100701: 1,\n",
       " 100702: 2,\n",
       " 100801: 1,\n",
       " 100802: 2,\n",
       " 100805: 2,\n",
       " 100806: 1,\n",
       " 100807: 1,\n",
       " 100808: 2,\n",
       " 101301: 2,\n",
       " 101302: 2,\n",
       " 101303: 2,\n",
       " 101601: 1,\n",
       " 101602: 2,\n",
       " 102001: 1,\n",
       " 102002: 2,\n",
       " 102004: 2,\n",
       " 102101: 1,\n",
       " 102102: 2,\n",
       " 102103: 1,\n",
       " 102104: 2,\n",
       " 102401: 1,\n",
       " 102402: 2,\n",
       " 102901: 1,\n",
       " 102902: 2,\n",
       " 103101: 1,\n",
       " 103102: 2,\n",
       " 103104: 2,\n",
       " 103105: 2,\n",
       " 103201: 1,\n",
       " 103202: 2,\n",
       " 103301: 1,\n",
       " 103302: 2,\n",
       " 103501: 1,\n",
       " 103502: 2,\n",
       " 103701: 1,\n",
       " 103702: 2,\n",
       " 104001: 1,\n",
       " 104002: 2,\n",
       " 104101: 1,\n",
       " 104102: 2,\n",
       " 104201: 1,\n",
       " 104202: 2,\n",
       " 104301: 1,\n",
       " 104302: 2,\n",
       " 104801: 1,\n",
       " 104802: 2,\n",
       " 104901: 1,\n",
       " 104902: 2,\n",
       " 105201: 1,\n",
       " 105301: 1,\n",
       " 105302: 2,\n",
       " 105303: 1,\n",
       " 105304: 2,\n",
       " 105401: 1,\n",
       " 105402: 2,\n",
       " 105404: 2,\n",
       " 105802: 2,\n",
       " 105901: 1,\n",
       " 105902: 2,\n",
       " 106201: 1,\n",
       " 106202: 2,\n",
       " 106204: 1,\n",
       " 106205: 2,\n",
       " 106501: 1,\n",
       " 106502: 1,\n",
       " 106503: 2,\n",
       " 106701: 1,\n",
       " 106702: 2,\n",
       " 106704: 2,\n",
       " 106801: 1,\n",
       " 106802: 2,\n",
       " 107101: 1,\n",
       " 107102: 2,\n",
       " 107301: 1,\n",
       " 107302: 2,\n",
       " 107303: 1,\n",
       " 107304: 2,\n",
       " 107307: 1,\n",
       " 107308: 2,\n",
       " 107401: 1,\n",
       " 107402: 2,\n",
       " 107802: 2,\n",
       " 107803: 2,\n",
       " 107805: 1,\n",
       " 107901: 1,\n",
       " 108101: 1,\n",
       " 108102: 2,\n",
       " 108104: 2,\n",
       " 108301: 1,\n",
       " 108302: 2,\n",
       " 108304: 2,\n",
       " 108801: 1,\n",
       " 108802: 2,\n",
       " 108803: 1,\n",
       " 108804: 2,\n",
       " 108901: 1,\n",
       " 108902: 2,\n",
       " 108905: 1,\n",
       " 108906: 2,\n",
       " 109201: 1,\n",
       " 109202: 2,\n",
       " 109401: 1,\n",
       " 109402: 2,\n",
       " 109501: 1,\n",
       " 109502: 2,\n",
       " 109505: 1,\n",
       " 109506: 2,\n",
       " 109701: 1,\n",
       " 109702: 2,\n",
       " 109901: 1,\n",
       " 109902: 2,\n",
       " 110301: 1,\n",
       " 110302: 2,\n",
       " 110501: 1,\n",
       " 110502: 2,\n",
       " 110601: 1,\n",
       " 110602: 2,\n",
       " 111201: 2,\n",
       " 111203: 2,\n",
       " 111204: 2,\n",
       " 111205: 1,\n",
       " 111501: 1,\n",
       " 111502: 2,\n",
       " 111901: 1,\n",
       " 111902: 2,\n",
       " 111903: 1,\n",
       " 111904: 2,\n",
       " 112201: 1,\n",
       " 112202: 2,\n",
       " 112601: 1,\n",
       " 112603: 2,\n",
       " 112604: 2,\n",
       " 112605: 1,\n",
       " 112801: 1,\n",
       " 112802: 2,\n",
       " 113301: 1,\n",
       " 113302: 2,\n",
       " 113401: 2,\n",
       " 113601: 1,\n",
       " 113602: 2,\n",
       " 113901: 1,\n",
       " 113902: 2,\n",
       " 114001: 1,\n",
       " 114002: 2,\n",
       " 114301: 2,\n",
       " 114302: 1,\n",
       " 114303: 2,\n",
       " 114601: 1,\n",
       " 114602: 2,\n",
       " 114701: 1,\n",
       " 114702: 2,\n",
       " 114703: 2,\n",
       " 114801: 1,\n",
       " 114802: 2,\n",
       " 115201: 1,\n",
       " 115202: 2,\n",
       " 115501: 1,\n",
       " 115502: 2,\n",
       " 115503: 1,\n",
       " 115504: 2,\n",
       " 115601: 1,\n",
       " 115801: 1,\n",
       " 115802: 1,\n",
       " 115803: 2,\n",
       " 115807: 1,\n",
       " 115808: 2,\n",
       " 115809: 2,\n",
       " 116201: 2,\n",
       " 116202: 1,\n",
       " 116203: 2,\n",
       " 116206: 1,\n",
       " 116207: 2,\n",
       " 116301: 1,\n",
       " 116302: 2,\n",
       " 116303: 1,\n",
       " 116304: 2,\n",
       " 116307: 1,\n",
       " 116308: 2,\n",
       " 116310: 1,\n",
       " 116311: 2,\n",
       " 116401: 1,\n",
       " 116402: 2,\n",
       " 116501: 1,\n",
       " 116502: 2,\n",
       " 116601: 1,\n",
       " 116602: 2,\n",
       " 116901: 1,\n",
       " 116902: 2,\n",
       " 116905: 2,\n",
       " 117101: 1,\n",
       " 117102: 2,\n",
       " 117103: 2,\n",
       " 117105: 1,\n",
       " 117201: 1,\n",
       " 117202: 2,\n",
       " 117203: 2,\n",
       " 117301: 1,\n",
       " 117403: 2,\n",
       " 117404: 1}"
      ]
     },
     "execution_count": 118,
     "metadata": {},
     "output_type": "execute_result"
    }
   ],
   "source": [
    "sex1"
   ]
  },
  {
   "cell_type": "markdown",
   "metadata": {},
   "source": [
    "### Exercise 4\n",
    "\n",
    "In this exercise, we will print the chance homophily of several characteristics of Villages 1 and 2. \n",
    "\n",
    "#### Instructions \n",
    "-  Use `chance_homophily` to compute the chance homophily for sex, caste, and religion In Villages 1 and 2. Is the chance homophily for any attribute very high for either village?"
   ]
  },
  {
   "cell_type": "code",
   "execution_count": 115,
   "metadata": {},
   "outputs": [
    {
     "name": "stdout",
     "output_type": "stream",
     "text": [
      "0.5027299861680701\n"
     ]
    }
   ],
   "source": [
    "print(chance_homophily(sex1)) "
   ]
  },
  {
   "cell_type": "code",
   "execution_count": 119,
   "metadata": {},
   "outputs": [
    {
     "name": "stdout",
     "output_type": "stream",
     "text": [
      "0.6741488509791551\n"
     ]
    }
   ],
   "source": [
    "print(chance_homophily(caste1)) "
   ]
  },
  {
   "cell_type": "code",
   "execution_count": 120,
   "metadata": {},
   "outputs": [
    {
     "name": "stdout",
     "output_type": "stream",
     "text": [
      "0.9804896988521925\n"
     ]
    }
   ],
   "source": [
    "print(chance_homophily(religion1))"
   ]
  },
  {
   "cell_type": "code",
   "execution_count": 121,
   "metadata": {},
   "outputs": [
    {
     "name": "stdout",
     "output_type": "stream",
     "text": [
      "0.5005945303210464\n"
     ]
    }
   ],
   "source": [
    "print(chance_homophily(sex2))"
   ]
  },
  {
   "cell_type": "code",
   "execution_count": 122,
   "metadata": {},
   "outputs": [
    {
     "name": "stdout",
     "output_type": "stream",
     "text": [
      "0.425368244800893\n"
     ]
    }
   ],
   "source": [
    "print(chance_homophily(caste2))"
   ]
  },
  {
   "cell_type": "code",
   "execution_count": 123,
   "metadata": {},
   "outputs": [
    {
     "name": "stdout",
     "output_type": "stream",
     "text": [
      "1.0\n"
     ]
    }
   ],
   "source": [
    "print(chance_homophily(religion2))"
   ]
  },
  {
   "cell_type": "markdown",
   "metadata": {},
   "source": [
    "### Exercise 5\n",
    "\n",
    "In this exercise, we will create a function that computes the observed homophily given a village and characteristic.\n",
    "\n",
    "#### Instructions \n",
    "- Complete the function `homophily()`, which takes a network `G`, a dictionary of node characteristics `chars`, and node IDs `IDs`. For each node pair, determine whether a tie exists between them, as well as whether they share a characteristic. The total count of these is `num_ties` and `num_same_ties`, respectively, and their ratio is the homophily of chars in `G`. Complete the function by choosing where to increment `num_same_ties` and `num_ties`."
   ]
  },
  {
   "cell_type": "code",
   "execution_count": 133,
   "metadata": {},
   "outputs": [],
   "source": [
    "def homophily(G, chars, IDs):\n",
    "    \"\"\"\n",
    "    Given a network G, a dict of characteristics chars for node IDs,\n",
    "    and dict of node IDs for each node in the network,\n",
    "    find the homophily of the network.\n",
    "    \"\"\"\n",
    "    num_same_ties = 0\n",
    "    num_ties = 0\n",
    "    for n1, n2 in G.edges():\n",
    "        if IDs[n1] in chars and IDs[n2] in chars:\n",
    "            if G.has_edge(n1, n2):\n",
    "                num_ties += 1 # Should `num_ties` be incremented?  What about `num_same_ties`?\n",
    "                if chars[IDs[n1]] == chars[IDs[n2]]:\n",
    "                    num_same_ties += 1 # Should `num_ties` be incremented?  What about `num_same_ties`?\n",
    "    return (num_same_ties / num_ties)    "
   ]
  },
  {
   "cell_type": "markdown",
   "metadata": {},
   "source": [
    "### Exercise 6\n",
    "\n",
    "In this exercise, we will obtain the personal IDs for Villages 1 and 2. These will be used in the next exercise to calculate homophily for these villages.\n",
    "\n",
    "#### Instructions \n",
    "- In this dataset, each individual has a personal ID, or PID, stored in `key_vilno_1.csv` and `key_vilno_2.csv` for villages 1 and 2, respectively. `data_filepath1` and `data_filepath2` contain the URLs to the datasets used in this exercise. Use `pd.read_csv` to read in and store `key_vilno_1.csv` and `key_vilno_2.csv` as `pid1` and `pid2` respectively. "
   ]
  },
  {
   "cell_type": "code",
   "execution_count": 124,
   "metadata": {},
   "outputs": [
    {
     "data": {
      "text/html": [
       "<div>\n",
       "<table border=\"1\" class=\"dataframe\">\n",
       "  <thead>\n",
       "    <tr style=\"text-align: right;\">\n",
       "      <th></th>\n",
       "      <th>0</th>\n",
       "    </tr>\n",
       "  </thead>\n",
       "  <tbody>\n",
       "    <tr>\n",
       "      <th>0</th>\n",
       "      <td>100101</td>\n",
       "    </tr>\n",
       "    <tr>\n",
       "      <th>1</th>\n",
       "      <td>100102</td>\n",
       "    </tr>\n",
       "    <tr>\n",
       "      <th>2</th>\n",
       "      <td>100103</td>\n",
       "    </tr>\n",
       "    <tr>\n",
       "      <th>3</th>\n",
       "      <td>100104</td>\n",
       "    </tr>\n",
       "    <tr>\n",
       "      <th>4</th>\n",
       "      <td>100201</td>\n",
       "    </tr>\n",
       "  </tbody>\n",
       "</table>\n",
       "</div>"
      ],
      "text/plain": [
       "        0\n",
       "0  100101\n",
       "1  100102\n",
       "2  100103\n",
       "3  100104\n",
       "4  100201"
      ]
     },
     "execution_count": 124,
     "metadata": {},
     "output_type": "execute_result"
    }
   ],
   "source": [
    "data_filepath1 = \"asset-v1_HarvardX+PH526x+2T2019+type@asset+block@key_vilno_1.csv\"\n",
    "pid1  = pd.read_csv(data_filepath1, low_memory=False, index_col=0)\n",
    "pid1.head()"
   ]
  },
  {
   "cell_type": "code",
   "execution_count": 126,
   "metadata": {},
   "outputs": [
    {
     "data": {
      "text/html": [
       "<div>\n",
       "<table border=\"1\" class=\"dataframe\">\n",
       "  <thead>\n",
       "    <tr style=\"text-align: right;\">\n",
       "      <th></th>\n",
       "      <th>0</th>\n",
       "    </tr>\n",
       "  </thead>\n",
       "  <tbody>\n",
       "    <tr>\n",
       "      <th>0</th>\n",
       "      <td>200101</td>\n",
       "    </tr>\n",
       "    <tr>\n",
       "      <th>1</th>\n",
       "      <td>200102</td>\n",
       "    </tr>\n",
       "    <tr>\n",
       "      <th>2</th>\n",
       "      <td>200103</td>\n",
       "    </tr>\n",
       "    <tr>\n",
       "      <th>3</th>\n",
       "      <td>200104</td>\n",
       "    </tr>\n",
       "    <tr>\n",
       "      <th>4</th>\n",
       "      <td>200105</td>\n",
       "    </tr>\n",
       "  </tbody>\n",
       "</table>\n",
       "</div>"
      ],
      "text/plain": [
       "        0\n",
       "0  200101\n",
       "1  200102\n",
       "2  200103\n",
       "3  200104\n",
       "4  200105"
      ]
     },
     "execution_count": 126,
     "metadata": {},
     "output_type": "execute_result"
    }
   ],
   "source": [
    "data_filepath2 = \"asset-v1_HarvardX+PH526x+2T2019+type@asset+block@key_vilno_2.csv\"\n",
    "pid2  = pd.read_csv(data_filepath2, low_memory=False, index_col=0)\n",
    "pid2.head()"
   ]
  },
  {
   "cell_type": "code",
   "execution_count": 132,
   "metadata": {},
   "outputs": [
    {
     "data": {
      "text/html": [
       "<div>\n",
       "<table border=\"1\" class=\"dataframe\">\n",
       "  <thead>\n",
       "    <tr style=\"text-align: right;\">\n",
       "      <th></th>\n",
       "      <th>0</th>\n",
       "    </tr>\n",
       "  </thead>\n",
       "  <tbody>\n",
       "    <tr>\n",
       "      <th>100</th>\n",
       "      <td>102205</td>\n",
       "    </tr>\n",
       "  </tbody>\n",
       "</table>\n",
       "</div>"
      ],
      "text/plain": [
       "          0\n",
       "100  102205"
      ]
     },
     "execution_count": 132,
     "metadata": {},
     "output_type": "execute_result"
    }
   ],
   "source": [
    "pid1[100:101]"
   ]
  },
  {
   "cell_type": "markdown",
   "metadata": {},
   "source": [
    "### Exercise 7\n",
    "\n",
    "In this exercise, we will compute the homophily of several network characteristics for Villages 1 and 2 and compare them to homophily due to chance alone. The networks for these villages have been stored as networkx graph objects `G1` and `G2`.\n",
    "\n",
    "#### Instructions \n",
    "\n",
    "- Use your `homophily()` function to compute the observed homophily for sex, caste, and religion in Villages 1 and 2. Print all six values.\n",
    "- Use the `chance_homophily()` to compare these values to chance homophily. Are these values higher or lower than that expected by chance?"
   ]
  },
  {
   "cell_type": "code",
   "execution_count": 135,
   "metadata": {},
   "outputs": [],
   "source": [
    "import networkx as nx\n",
    "A1 = np.array(pd.read_csv(\"https://courses.edx.org/asset-v1:HarvardX+PH526x+2T2019+type@asset+block@adj_allVillageRelationships_vilno1.csv\", index_col=0))\n",
    "A2 = np.array(pd.read_csv(\"https://courses.edx.org/asset-v1:HarvardX+PH526x+2T2019+type@asset+block@adj_allVillageRelationships_vilno2.csv\", index_col=0))\n",
    "G1 = nx.to_networkx_graph(A1)\n",
    "G2 = nx.to_networkx_graph(A2)\n",
    "\n",
    "pid1 = pd.read_csv(data_filepath1, dtype=int)['0'].to_dict()\n",
    "pid2 = pd.read_csv(data_filepath2, dtype=int)['0'].to_dict()"
   ]
  },
  {
   "cell_type": "code",
   "execution_count": 136,
   "metadata": {},
   "outputs": [
    {
     "name": "stdout",
     "output_type": "stream",
     "text": [
      "0.5908629441624366\n",
      "0.7959390862944162\n",
      "0.9908629441624366\n",
      "0.5658073270013568\n",
      "0.8276797829036635\n",
      "1.0\n"
     ]
    }
   ],
   "source": [
    "print(homophily(G1,sex1,pid1))\n",
    "print(homophily(G1,caste1,pid1))\n",
    "print(homophily(G1,religion1,pid1))\n",
    "print(homophily(G2,sex2,pid2))\n",
    "print(homophily(G2,caste2,pid2))\n",
    "print(homophily(G2,religion2,pid2))"
   ]
  },
  {
   "cell_type": "code",
   "execution_count": null,
   "metadata": {},
   "outputs": [],
   "source": []
  }
 ],
 "metadata": {
  "kernelspec": {
   "display_name": "Python 3",
   "language": "python",
   "name": "python3"
  },
  "language_info": {
   "codemirror_mode": {
    "name": "ipython",
    "version": 3
   },
   "file_extension": ".py",
   "mimetype": "text/x-python",
   "name": "python",
   "nbconvert_exporter": "python",
   "pygments_lexer": "ipython3",
   "version": "3.5.4"
  },
  "toc": {
   "base_numbering": 1,
   "nav_menu": {},
   "number_sections": false,
   "sideBar": true,
   "skip_h1_title": false,
   "title_cell": "Table of Contents",
   "title_sidebar": "Contents",
   "toc_cell": false,
   "toc_position": {},
   "toc_section_display": true,
   "toc_window_display": true
  }
 },
 "nbformat": 4,
 "nbformat_minor": 2
}
