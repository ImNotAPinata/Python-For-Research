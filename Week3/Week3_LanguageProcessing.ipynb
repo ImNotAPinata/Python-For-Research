{
 "cells": [
  {
   "cell_type": "code",
   "execution_count": 1,
   "metadata": {},
   "outputs": [],
   "source": [
    "text = \"This is my test. We're keeping this text short to keep things manageable.\"\n",
    "\n",
    "def count_words(text):\n",
    "    '''\n",
    "    Count the number of times each word occurs in text (str). Return dictionary\n",
    "    where keys are unique words and values are word counts. Skip punctuation.\n",
    "    '''\n",
    "    text = text.lower()\n",
    "    skips = [\".\",\",\",\";\",\":\",\"''\",'\"']\n",
    "    \n",
    "    for ch in skips:\n",
    "        text = text.replace(ch,\"\")\n",
    "        \n",
    "    word_counts = {}\n",
    "    for word in text.split(\" \"):\n",
    "        if word in word_counts:\n",
    "            word_counts[word] += 1\n",
    "        else:\n",
    "            word_counts[word] = 1\n",
    "    return word_counts\n",
    "\n",
    "from collections import Counter\n",
    "\n",
    "def count_words_fast(text): \n",
    "    '''\n",
    "    Count the number of times each word occurs in text (str). Return dictionary\n",
    "    where keys are unique words and values are word counts. Skip punctuation.\n",
    "    '''\n",
    "    text = text.lower()\n",
    "    skips = [\".\",\",\",\";\",\":\",\"''\",'\"']\n",
    "    \n",
    "    for ch in skips:\n",
    "        text = text.replace(ch,\"\")\n",
    "        \n",
    "    word_counts = Counter(text.split(\" \"))\n",
    "    return word_counts "
   ]
  },
  {
   "cell_type": "code",
   "execution_count": 2,
   "metadata": {},
   "outputs": [
    {
     "name": "stdout",
     "output_type": "stream",
     "text": [
      "{'this': 2, 'is': 1, 'my': 1, 'test': 1, \"we're\": 1, 'keeping': 1, 'text': 1, 'short': 1, 'to': 1, 'keep': 1, 'things': 1, 'manageable': 1}\n"
     ]
    }
   ],
   "source": [
    "print(count_words(text))"
   ]
  },
  {
   "cell_type": "code",
   "execution_count": 3,
   "metadata": {},
   "outputs": [
    {
     "data": {
      "text/plain": [
       "6"
      ]
     },
     "execution_count": 3,
     "metadata": {},
     "output_type": "execute_result"
    }
   ],
   "source": [
    "len(count_words(\"This comprehension check is to check for comprehension.\"))"
   ]
  },
  {
   "cell_type": "code",
   "execution_count": 4,
   "metadata": {},
   "outputs": [
    {
     "name": "stdout",
     "output_type": "stream",
     "text": [
      "Counter({'this': 2, 'is': 1, 'my': 1, 'test': 1, \"we're\": 1, 'keeping': 1, 'text': 1, 'short': 1, 'to': 1, 'keep': 1, 'things': 1, 'manageable': 1})\n"
     ]
    }
   ],
   "source": [
    "print(count_words_fast(text))"
   ]
  },
  {
   "cell_type": "code",
   "execution_count": 5,
   "metadata": {},
   "outputs": [
    {
     "data": {
      "text/plain": [
       "False"
      ]
     },
     "execution_count": 5,
     "metadata": {},
     "output_type": "execute_result"
    }
   ],
   "source": [
    "count_words(text) is count_words_fast(text)"
   ]
  },
  {
   "cell_type": "code",
   "execution_count": 6,
   "metadata": {},
   "outputs": [
    {
     "data": {
      "text/plain": [
       "True"
      ]
     },
     "execution_count": 6,
     "metadata": {},
     "output_type": "execute_result"
    }
   ],
   "source": [
    "count_words(text) == count_words_fast(text)"
   ]
  },
  {
   "cell_type": "code",
   "execution_count": 7,
   "metadata": {},
   "outputs": [],
   "source": [
    "def read_book(title_path):\n",
    "    '''\n",
    "    Read a book and return it as a string\n",
    "    '''\n",
    "    with open(title_path,\"r\",encoding='utf8') as current_file:\n",
    "        text = current_file.read()\n",
    "        text = text.replace(\"\\n\",\"\").replace(\"\\r\",\"\")\n",
    "    return text"
   ]
  },
  {
   "cell_type": "code",
   "execution_count": 8,
   "metadata": {},
   "outputs": [
    {
     "name": "stdout",
     "output_type": "stream",
     "text": [
      "169275\n",
      "42757\n",
      "What's in a name? That which we call a rose    By any other name would smell as sweet.    So Romeo would, were he not Romeo call'd,    Retain that dear perfection which he owes    Without that title. Romeo, doff thy name;    And for that name, which is no part of thee,    Take all myself.  Rom. I take thee at thy word.    Call me but love, and I'll be new baptiz'd;    Henceforth I never will be Romeo.  Jul. What man art thou that, thus bescreen'd in night,    So stumblest on my counsel?  Rom. By a name    I know not how to tell thee who I am.    My name, dear saint, is hateful to myself,    Because it is an enemy to thee.    Had I it written, I would tear the word.  Jul. My ears have yet not drunk a hundred words    Of that tongue's utterance, yet I know the sound.    Art thou not Romeo, and a Montague?  Rom. Neither, fair saint, if either thee dislike.  Jul. How cam'st thou hither, tell me, and wherefore?    The orchard walls are high and hard to climb,    And the place death, conside\n"
     ]
    }
   ],
   "source": [
    "text = read_book(\"./Books_EngFr/Eng_shakespeare/Romeo and Juliet.txt\")\n",
    "print(len(text))\n",
    "ind = text.find(\"What's in a name?\")\n",
    "print(ind)\n",
    "sample_text = text[ind:ind+1000]\n",
    "print(sample_text)"
   ]
  },
  {
   "cell_type": "code",
   "execution_count": 9,
   "metadata": {},
   "outputs": [],
   "source": [
    "def word_stats(word_counts):\n",
    "    '''\n",
    "    return number of unique words and words frequencies\n",
    "    '''\n",
    "    num_unique = len(word_counts)\n",
    "    counts = word_counts.values() \n",
    "    return (num_unique,counts)"
   ]
  },
  {
   "cell_type": "code",
   "execution_count": 10,
   "metadata": {},
   "outputs": [],
   "source": [
    "text = read_book(\"./Books_EngFr/Eng_shakespeare/Romeo and Juliet.txt\")\n",
    "word_counts = count_words(text)\n",
    "(num,unique) = word_stats(word_counts)"
   ]
  },
  {
   "cell_type": "code",
   "execution_count": 11,
   "metadata": {},
   "outputs": [
    {
     "name": "stdout",
     "output_type": "stream",
     "text": [
      "5223\n"
     ]
    },
    {
     "data": {
      "text/plain": [
       "40776"
      ]
     },
     "execution_count": 11,
     "metadata": {},
     "output_type": "execute_result"
    }
   ],
   "source": [
    "print(num) \n",
    "sum(unique)"
   ]
  },
  {
   "cell_type": "code",
   "execution_count": 12,
   "metadata": {},
   "outputs": [],
   "source": [
    "text = read_book(\"./Books_GerPort/Ger_shakespeare/Romeo und Julia.txt\")\n",
    "word_counts = count_words(text)\n",
    "(num,unique) = word_stats(word_counts)"
   ]
  },
  {
   "cell_type": "code",
   "execution_count": 13,
   "metadata": {},
   "outputs": [
    {
     "name": "stdout",
     "output_type": "stream",
     "text": [
      "7543\n"
     ]
    },
    {
     "data": {
      "text/plain": [
       "20311"
      ]
     },
     "execution_count": 13,
     "metadata": {},
     "output_type": "execute_result"
    }
   ],
   "source": [
    "print(num) \n",
    "sum(unique)"
   ]
  },
  {
   "cell_type": "code",
   "execution_count": 14,
   "metadata": {},
   "outputs": [
    {
     "name": "stdout",
     "output_type": "stream",
     "text": [
      "./Books_GerPort/Ger_raimund/Der Diamant des Geisterkînigs.txt\n",
      "./Books_GerPort/Ger_raimund/Der Barometermacher auf der Zauberinsel.txt\n",
      "./Books_GerPort/Ger_raimund/Die unheilbringende Krone.txt\n",
      "./Books_GerPort/Ger_raimund/Die gefesselte Phantasie.txt\n",
      "./Books_GerPort/Ger_raimund/Der Alpenkînig und der Menschenfeind.txt\n",
      "./Books_GerPort/Ger_raimund/Moisasurs Zauberfluch.txt\n",
      "./Books_GerPort/Ger_raimund/Der Verschwender.txt\n",
      "./Books_GerPort/Ger_raimund/Das MÑdchen aus der Feenwelt.txt\n",
      "./Books_GerPort/Por_branco/O Regicida.txt\n",
      "./Books_GerPort/Por_branco/Livro de Consolação.txt\n",
      "./Books_GerPort/Por_branco/Amor de Perdição.txt\n",
      "./Books_GerPort/Por_branco/Lagrimas Abenáoadas.txt\n",
      "./Books_GerPort/Por_branco/Estrellas Prop°cias.txt\n",
      "./Books_GerPort/Por_branco/Agulha em Palheiro.txt\n",
      "./Books_GerPort/Por_branco/A Neta do Arcediago.txt\n",
      "./Books_GerPort/Por_branco/A Filha do Arcediago.txt\n",
      "./Books_GerPort/Por_branco/Amor de Salvação.txt\n",
      "./Books_GerPort/Por_branco/O que fazem mulheres.txt\n",
      "./Books_GerPort/Por_branco/O Olho de Vidro.txt\n",
      "./Books_GerPort/Por_branco/Estrellas Funestas.txt\n",
      "./Books_GerPort/Por_branco/Carlota Angela.txt\n",
      "./Books_GerPort/Por_branco/Annos de Prosa.txt\n",
      "./Books_GerPort/Por_branco/Scenas Contemporaneas.txt\n",
      "./Books_GerPort/Por_branco/A Queda d'um Anjo.txt\n",
      "./Books_GerPort/Por_querios/A Illustre Casa de Ramires.txt\n",
      "./Books_GerPort/Por_querios/A Cidade e as Serras.txt\n",
      "./Books_GerPort/Por_querios/A correspondància de Fradique Mendes.txt\n",
      "./Books_GerPort/Por_querios/A Rel°quia.txt\n",
      "./Books_GerPort/Por_querios/Cartas de Inglaterra.txt\n",
      "./Books_GerPort/Por_querios/O Primo Bazilio.txt\n",
      "./Books_GerPort/Por_querios/O Mandarim.txt\n",
      "./Books_GerPort/Por_querios/O crime do padre Amaro.txt\n",
      "./Books_GerPort/Por_querios/Os Maias.txt\n",
      "./Books_GerPort/Por_shakespeare/Hamlet.txt\n",
      "./Books_GerPort/Ger_schiller/Die Huldigung der KÅnste.txt\n",
      "./Books_GerPort/Ger_schiller/Turandot, Prinzessin von China.txt\n",
      "./Books_GerPort/Ger_schiller/die braut von messina.txt\n",
      "./Books_GerPort/Ger_schiller/Die Jungfrau von Orleans.txt\n",
      "./Books_GerPort/Ger_schiller/Kabale und Liebe.txt\n",
      "./Books_GerPort/Ger_schiller/Der Neffe als Onkel.txt\n",
      "./Books_GerPort/Ger_schiller/Wallensteins Lager.txt\n",
      "./Books_GerPort/Ger_schiller/Die Verschwîrung des Fiesco zu Genua.txt\n",
      "./Books_GerPort/Ger_schiller/Wallensteins Tod.txt\n",
      "./Books_GerPort/Ger_schiller/Der Parasit, oder die Kunst, sein GlÅck zu machen.txt\n",
      "./Books_GerPort/Ger_schiller/Die Piccolomini.txt\n",
      "./Books_GerPort/Ger_lessing/philotas.txt\n",
      "./Books_GerPort/Ger_lessing/der freigeist.txt\n",
      "./Books_GerPort/Ger_lessing/der junge gelehrte.txt\n",
      "./Books_GerPort/Ger_lessing/emilia galotti.txt\n",
      "./Books_GerPort/Ger_lessing/miss sara sampson.txt\n",
      "./Books_GerPort/Ger_lessing/minna von barnhelm.txt\n",
      "./Books_GerPort/Ger_lessing/hamburgische dramaturgie.txt\n",
      "./Books_GerPort/Ger_lessing/die juden.txt\n",
      "./Books_GerPort/Ger_shakespeare/Hamlet.txt\n",
      "./Books_GerPort/Ger_shakespeare/Der Kaufmann von Venedig.txt\n",
      "./Books_GerPort/Ger_shakespeare/Othello.txt\n",
      "./Books_GerPort/Ger_shakespeare/Romeo und Julia.txt\n",
      "./Books_GerPort/Ger_shakespeare/Macbeth.txt\n",
      "./Books_GerPort/Ger_shakespeare/Ein Sommernachtstraum.txt\n",
      "./Books_GerPort/Ger_shakespeare/Richard III.txt\n",
      "./Books_GerPort/Por_dinis/A Morgadinha dos Cannaviaes.txt\n",
      "./Books_GerPort/Por_dinis/Os fidalgos da Casa Mourisca.txt\n",
      "./Books_GerPort/Por_dinis/Uma fam°lia ingleza.txt\n",
      "./Books_EngFr/Frc_sand/Le Piccinino.txt\n",
      "./Books_EngFr/Frc_sand/La Marquise.txt\n",
      "./Books_EngFr/Frc_sand/Metella.txt\n",
      "./Books_EngFr/Frc_sand/cora.txt\n",
      "./Books_EngFr/Frc_sand/Pauline.txt\n",
      "./Books_EngFr/Frc_sand/L' Orco.txt\n",
      "./Books_EngFr/Frc_sand/Mattea.txt\n",
      "./Books_EngFr/Frc_sand/Oeuvres illustrÇes de George Sand.txt\n",
      "./Books_EngFr/Frc_sand/Jacques le fataliste et son maåtre.txt\n",
      "./Books_EngFr/Frc_sand/Le poâme de Myrza.txt\n",
      "./Books_EngFr/Frc_sand/La Coupe; Lupo Liverani; Le Toast; Garnier; Le Contrebandier; La Ràverie Ö Paris.txt\n",
      "./Books_EngFr/Eng_shakespeare/A Midsummer Night's Dream.txt\n",
      "./Books_EngFr/Eng_shakespeare/Richard III.txt\n",
      "./Books_EngFr/Eng_shakespeare/Othello.txt\n",
      "./Books_EngFr/Eng_shakespeare/The Merchant of Venice.txt\n",
      "./Books_EngFr/Eng_shakespeare/Macbeth.txt\n",
      "./Books_EngFr/Eng_shakespeare/Hamlet.txt\n",
      "./Books_EngFr/Eng_shakespeare/Romeo and Juliet.txt\n",
      "./Books_EngFr/Frc_diderot/Les deux amis de Bourbonne.txt\n",
      "./Books_EngFr/Frc_diderot/Entretien d'un päre avec ses enfants.txt\n",
      "./Books_EngFr/Frc_diderot/L'oiseau blanc.txt\n",
      "./Books_EngFr/Frc_diderot/Ceci n'est pas un conte.txt\n",
      "./Books_EngFr/Frc_diderot/Regrets sur ma vieille robe de chambre.txt\n",
      "./Books_EngFr/Frc_chevalier/La fille des indiens rouges.txt\n",
      "./Books_EngFr/Frc_chevalier/L'åle de sable.txt\n",
      "./Books_EngFr/Frc_chevalier/La capitaine.txt\n",
      "./Books_EngFr/Frc_chevalier/L'enfer et le paradis de l'autre monde.txt\n",
      "./Books_EngFr/Frc_chevalier/La fille du pirate.txt\n",
      "./Books_EngFr/Frc_chevalier/Les derniers Iroquois.txt\n",
      "./Books_EngFr/Frc_chevalier/Le chasseur noir.txt\n",
      "./Books_EngFr/Frc_damaupassant/La Main Gauche.txt\n",
      "./Books_EngFr/Frc_damaupassant/L'inutile beautÇ.txt\n",
      "./Books_EngFr/Frc_damaupassant/La Maison Tellier.txt\n",
      "./Books_EngFr/Frc_damaupassant/Claire de Lune.txt\n",
      "./Books_EngFr/Frc_damaupassant/Boule de Suif.txt\n",
      "./Books_EngFr/Frc_damaupassant/La petite roque.txt\n",
      "./Books_EngFr/Frc_damaupassant/Œuvres complètes de Guy de Maupassant.txt\n",
      "./Books_EngFr/Frc_damaupassant/Contes de la Becasse.txt\n",
      "./Books_EngFr/Frc_damaupassant/Le Horla.txt\n"
     ]
    }
   ],
   "source": [
    "import os\n",
    "\n",
    "book_dir = \"\"  #updated to reflect current directory\n",
    "book_dir = [\"./Books_GerPort\",\"./Books_EngFr\"]\n",
    "\n",
    "for language in book_dir:\n",
    "    for author in os.listdir(language):\n",
    "        for title in os.listdir(language+\"/\"+author):\n",
    "            input_file = language+\"/\"+author+\"/\"+title\n",
    "            print(input_file)\n",
    "            text = read_book(input_file) \n",
    "            (num_unique,counts) = word_stats(count_words(text))"
   ]
  },
  {
   "cell_type": "code",
   "execution_count": 15,
   "metadata": {},
   "outputs": [
    {
     "name": "stdout",
     "output_type": "stream",
     "text": [
      "./Books_GerPort/Ger_raimund/Der Diamant des Geisterkînigs.txt\n",
      "./Books_GerPort/Ger_raimund/Der Barometermacher auf der Zauberinsel.txt\n",
      "./Books_GerPort/Ger_raimund/Die unheilbringende Krone.txt\n",
      "./Books_GerPort/Ger_raimund/Die gefesselte Phantasie.txt\n",
      "./Books_GerPort/Ger_raimund/Der Alpenkînig und der Menschenfeind.txt\n",
      "./Books_GerPort/Ger_raimund/Moisasurs Zauberfluch.txt\n",
      "./Books_GerPort/Ger_raimund/Der Verschwender.txt\n",
      "./Books_GerPort/Ger_raimund/Das MÑdchen aus der Feenwelt.txt\n",
      "./Books_GerPort/Por_branco/O Regicida.txt\n",
      "./Books_GerPort/Por_branco/Livro de Consolação.txt\n",
      "./Books_GerPort/Por_branco/Amor de Perdição.txt\n",
      "./Books_GerPort/Por_branco/Lagrimas Abenáoadas.txt\n",
      "./Books_GerPort/Por_branco/Estrellas Prop°cias.txt\n",
      "./Books_GerPort/Por_branco/Agulha em Palheiro.txt\n",
      "./Books_GerPort/Por_branco/A Neta do Arcediago.txt\n",
      "./Books_GerPort/Por_branco/A Filha do Arcediago.txt\n",
      "./Books_GerPort/Por_branco/Amor de Salvação.txt\n",
      "./Books_GerPort/Por_branco/O que fazem mulheres.txt\n",
      "./Books_GerPort/Por_branco/O Olho de Vidro.txt\n",
      "./Books_GerPort/Por_branco/Estrellas Funestas.txt\n",
      "./Books_GerPort/Por_branco/Carlota Angela.txt\n",
      "./Books_GerPort/Por_branco/Annos de Prosa.txt\n",
      "./Books_GerPort/Por_branco/Scenas Contemporaneas.txt\n",
      "./Books_GerPort/Por_branco/A Queda d'um Anjo.txt\n",
      "./Books_GerPort/Por_querios/A Illustre Casa de Ramires.txt\n",
      "./Books_GerPort/Por_querios/A Cidade e as Serras.txt\n",
      "./Books_GerPort/Por_querios/A correspondància de Fradique Mendes.txt\n",
      "./Books_GerPort/Por_querios/A Rel°quia.txt\n",
      "./Books_GerPort/Por_querios/Cartas de Inglaterra.txt\n",
      "./Books_GerPort/Por_querios/O Primo Bazilio.txt\n",
      "./Books_GerPort/Por_querios/O Mandarim.txt\n",
      "./Books_GerPort/Por_querios/O crime do padre Amaro.txt\n",
      "./Books_GerPort/Por_querios/Os Maias.txt\n",
      "./Books_GerPort/Por_shakespeare/Hamlet.txt\n",
      "./Books_GerPort/Ger_schiller/Die Huldigung der KÅnste.txt\n",
      "./Books_GerPort/Ger_schiller/Turandot, Prinzessin von China.txt\n",
      "./Books_GerPort/Ger_schiller/die braut von messina.txt\n",
      "./Books_GerPort/Ger_schiller/Die Jungfrau von Orleans.txt\n",
      "./Books_GerPort/Ger_schiller/Kabale und Liebe.txt\n",
      "./Books_GerPort/Ger_schiller/Der Neffe als Onkel.txt\n",
      "./Books_GerPort/Ger_schiller/Wallensteins Lager.txt\n",
      "./Books_GerPort/Ger_schiller/Die Verschwîrung des Fiesco zu Genua.txt\n",
      "./Books_GerPort/Ger_schiller/Wallensteins Tod.txt\n",
      "./Books_GerPort/Ger_schiller/Der Parasit, oder die Kunst, sein GlÅck zu machen.txt\n",
      "./Books_GerPort/Ger_schiller/Die Piccolomini.txt\n",
      "./Books_GerPort/Ger_lessing/philotas.txt\n",
      "./Books_GerPort/Ger_lessing/der freigeist.txt\n",
      "./Books_GerPort/Ger_lessing/der junge gelehrte.txt\n",
      "./Books_GerPort/Ger_lessing/emilia galotti.txt\n",
      "./Books_GerPort/Ger_lessing/miss sara sampson.txt\n",
      "./Books_GerPort/Ger_lessing/minna von barnhelm.txt\n",
      "./Books_GerPort/Ger_lessing/hamburgische dramaturgie.txt\n",
      "./Books_GerPort/Ger_lessing/die juden.txt\n",
      "./Books_GerPort/Ger_shakespeare/Hamlet.txt\n",
      "./Books_GerPort/Ger_shakespeare/Der Kaufmann von Venedig.txt\n",
      "./Books_GerPort/Ger_shakespeare/Othello.txt\n",
      "./Books_GerPort/Ger_shakespeare/Romeo und Julia.txt\n",
      "./Books_GerPort/Ger_shakespeare/Macbeth.txt\n",
      "./Books_GerPort/Ger_shakespeare/Ein Sommernachtstraum.txt\n",
      "./Books_GerPort/Ger_shakespeare/Richard III.txt\n",
      "./Books_GerPort/Por_dinis/A Morgadinha dos Cannaviaes.txt\n",
      "./Books_GerPort/Por_dinis/Os fidalgos da Casa Mourisca.txt\n",
      "./Books_GerPort/Por_dinis/Uma fam°lia ingleza.txt\n",
      "./Books_EngFr/Frc_sand/Le Piccinino.txt\n",
      "./Books_EngFr/Frc_sand/La Marquise.txt\n",
      "./Books_EngFr/Frc_sand/Metella.txt\n",
      "./Books_EngFr/Frc_sand/cora.txt\n",
      "./Books_EngFr/Frc_sand/Pauline.txt\n",
      "./Books_EngFr/Frc_sand/L' Orco.txt\n",
      "./Books_EngFr/Frc_sand/Mattea.txt\n",
      "./Books_EngFr/Frc_sand/Oeuvres illustrÇes de George Sand.txt\n",
      "./Books_EngFr/Frc_sand/Jacques le fataliste et son maåtre.txt\n",
      "./Books_EngFr/Frc_sand/Le poâme de Myrza.txt\n",
      "./Books_EngFr/Frc_sand/La Coupe; Lupo Liverani; Le Toast; Garnier; Le Contrebandier; La Ràverie Ö Paris.txt\n",
      "./Books_EngFr/Eng_shakespeare/A Midsummer Night's Dream.txt\n",
      "./Books_EngFr/Eng_shakespeare/Richard III.txt\n",
      "./Books_EngFr/Eng_shakespeare/Othello.txt\n",
      "./Books_EngFr/Eng_shakespeare/The Merchant of Venice.txt\n",
      "./Books_EngFr/Eng_shakespeare/Macbeth.txt\n",
      "./Books_EngFr/Eng_shakespeare/Hamlet.txt\n",
      "./Books_EngFr/Eng_shakespeare/Romeo and Juliet.txt\n",
      "./Books_EngFr/Frc_diderot/Les deux amis de Bourbonne.txt\n",
      "./Books_EngFr/Frc_diderot/Entretien d'un päre avec ses enfants.txt\n",
      "./Books_EngFr/Frc_diderot/L'oiseau blanc.txt\n",
      "./Books_EngFr/Frc_diderot/Ceci n'est pas un conte.txt\n",
      "./Books_EngFr/Frc_diderot/Regrets sur ma vieille robe de chambre.txt\n",
      "./Books_EngFr/Frc_chevalier/La fille des indiens rouges.txt\n",
      "./Books_EngFr/Frc_chevalier/L'åle de sable.txt\n",
      "./Books_EngFr/Frc_chevalier/La capitaine.txt\n",
      "./Books_EngFr/Frc_chevalier/L'enfer et le paradis de l'autre monde.txt\n",
      "./Books_EngFr/Frc_chevalier/La fille du pirate.txt\n",
      "./Books_EngFr/Frc_chevalier/Les derniers Iroquois.txt\n",
      "./Books_EngFr/Frc_chevalier/Le chasseur noir.txt\n",
      "./Books_EngFr/Frc_damaupassant/La Main Gauche.txt\n",
      "./Books_EngFr/Frc_damaupassant/L'inutile beautÇ.txt\n",
      "./Books_EngFr/Frc_damaupassant/La Maison Tellier.txt\n",
      "./Books_EngFr/Frc_damaupassant/Claire de Lune.txt\n",
      "./Books_EngFr/Frc_damaupassant/Boule de Suif.txt\n",
      "./Books_EngFr/Frc_damaupassant/La petite roque.txt\n",
      "./Books_EngFr/Frc_damaupassant/Œuvres complètes de Guy de Maupassant.txt\n",
      "./Books_EngFr/Frc_damaupassant/Contes de la Becasse.txt\n",
      "./Books_EngFr/Frc_damaupassant/Le Horla.txt\n"
     ]
    }
   ],
   "source": [
    "import pandas as pd\n",
    "\n",
    "book_dir = [\"./Books_GerPort\",\"./Books_EngFr\"]\n",
    "\n",
    "stats = pd.DataFrame(columns=(\"language\",\"author\",\"title\",\"unique\",\"unique\"))\n",
    "title_num = 1\n",
    "\n",
    "for language in book_dir:\n",
    "    for author in os.listdir(language):\n",
    "        for title in os.listdir(language+\"/\"+author):\n",
    "            input_file = language+\"/\"+author+\"/\"+title\n",
    "            print(input_file)\n",
    "            text = read_book(input_file) \n",
    "            (num_unique,counts) = word_stats(count_words(text))\n",
    "            stats.loc[title_num] = language, author, title, sum(counts), num_unique\n",
    "            title_num +=1\n"
   ]
  },
  {
   "cell_type": "code",
   "execution_count": 16,
   "metadata": {},
   "outputs": [
    {
     "data": {
      "text/html": [
       "<div>\n",
       "<style scoped>\n",
       "    .dataframe tbody tr th:only-of-type {\n",
       "        vertical-align: middle;\n",
       "    }\n",
       "\n",
       "    .dataframe tbody tr th {\n",
       "        vertical-align: top;\n",
       "    }\n",
       "\n",
       "    .dataframe thead th {\n",
       "        text-align: right;\n",
       "    }\n",
       "</style>\n",
       "<table border=\"1\" class=\"dataframe\">\n",
       "  <thead>\n",
       "    <tr style=\"text-align: right;\">\n",
       "      <th></th>\n",
       "      <th>language</th>\n",
       "      <th>author</th>\n",
       "      <th>title</th>\n",
       "      <th>unique</th>\n",
       "      <th>unique</th>\n",
       "    </tr>\n",
       "  </thead>\n",
       "  <tbody>\n",
       "    <tr>\n",
       "      <th>1</th>\n",
       "      <td>./Books_GerPort</td>\n",
       "      <td>Ger_raimund</td>\n",
       "      <td>Der Diamant des Geisterkînigs.txt</td>\n",
       "      <td>18855</td>\n",
       "      <td>5995</td>\n",
       "    </tr>\n",
       "    <tr>\n",
       "      <th>2</th>\n",
       "      <td>./Books_GerPort</td>\n",
       "      <td>Ger_raimund</td>\n",
       "      <td>Der Barometermacher auf der Zauberinsel.txt</td>\n",
       "      <td>16032</td>\n",
       "      <td>5319</td>\n",
       "    </tr>\n",
       "    <tr>\n",
       "      <th>3</th>\n",
       "      <td>./Books_GerPort</td>\n",
       "      <td>Ger_raimund</td>\n",
       "      <td>Die unheilbringende Krone.txt</td>\n",
       "      <td>24701</td>\n",
       "      <td>7605</td>\n",
       "    </tr>\n",
       "    <tr>\n",
       "      <th>4</th>\n",
       "      <td>./Books_GerPort</td>\n",
       "      <td>Ger_raimund</td>\n",
       "      <td>Die gefesselte Phantasie.txt</td>\n",
       "      <td>16651</td>\n",
       "      <td>5824</td>\n",
       "    </tr>\n",
       "    <tr>\n",
       "      <th>5</th>\n",
       "      <td>./Books_GerPort</td>\n",
       "      <td>Ger_raimund</td>\n",
       "      <td>Der Alpenkînig und der Menschenfeind.txt</td>\n",
       "      <td>21802</td>\n",
       "      <td>7002</td>\n",
       "    </tr>\n",
       "  </tbody>\n",
       "</table>\n",
       "</div>"
      ],
      "text/plain": [
       "          language       author                                        title  \\\n",
       "1  ./Books_GerPort  Ger_raimund            Der Diamant des Geisterkînigs.txt   \n",
       "2  ./Books_GerPort  Ger_raimund  Der Barometermacher auf der Zauberinsel.txt   \n",
       "3  ./Books_GerPort  Ger_raimund                Die unheilbringende Krone.txt   \n",
       "4  ./Books_GerPort  Ger_raimund                 Die gefesselte Phantasie.txt   \n",
       "5  ./Books_GerPort  Ger_raimund     Der Alpenkînig und der Menschenfeind.txt   \n",
       "\n",
       "  unique unique  \n",
       "1  18855   5995  \n",
       "2  16032   5319  \n",
       "3  24701   7605  \n",
       "4  16651   5824  \n",
       "5  21802   7002  "
      ]
     },
     "execution_count": 16,
     "metadata": {},
     "output_type": "execute_result"
    }
   ],
   "source": [
    "stats.head(5)"
   ]
  },
  {
   "cell_type": "code",
   "execution_count": 23,
   "metadata": {},
   "outputs": [
    {
     "data": {
      "text/plain": [
       "[<matplotlib.lines.Line2D at 0x7f9874fa7f98>]"
      ]
     },
     "execution_count": 23,
     "metadata": {},
     "output_type": "execute_result"
    },
    {
     "data": {
      "image/png": "[encoded data removed]",
      "text/plain": [
       "<Figure size 432x288 with 1 Axes>"
      ]
     },
     "metadata": {
      "needs_background": "light"
     },
     "output_type": "display_data"
    }
   ],
   "source": [
    "import matplotlib.pyplot as plt\n",
    "\n",
    "plt.plot(stats.length,stats.unique,\"bo\")"
   ]
  },
  {
   "cell_type": "code",
   "execution_count": 25,
   "metadata": {},
   "outputs": [
    {
     "data": {
      "text/plain": [
       "[<matplotlib.lines.Line2D at 0x7f9874f8f748>]"
      ]
     },
     "execution_count": 25,
     "metadata": {},
     "output_type": "execute_result"
    },
    {
     "data": {
      "image/png": "[encoded data removed]",
      "text/plain": [
       "<Figure size 432x288 with 1 Axes>"
      ]
     },
     "metadata": {
      "needs_background": "light"
     },
     "output_type": "display_data"
    }
   ],
   "source": [
    "plt.loglog(stats.length,stats.unique,\"bo\")"
   ]
  },
  {
   "cell_type": "code",
   "execution_count": 34,
   "metadata": {},
   "outputs": [
    {
     "data": {
      "text/html": [
       "<div>\n",
       "<style scoped>\n",
       "    .dataframe tbody tr th:only-of-type {\n",
       "        vertical-align: middle;\n",
       "    }\n",
       "\n",
       "    .dataframe tbody tr th {\n",
       "        vertical-align: top;\n",
       "    }\n",
       "\n",
       "    .dataframe thead th {\n",
       "        text-align: right;\n",
       "    }\n",
       "</style>\n",
       "<table border=\"1\" class=\"dataframe\">\n",
       "  <thead>\n",
       "    <tr style=\"text-align: right;\">\n",
       "      <th></th>\n",
       "      <th>language</th>\n",
       "      <th>author</th>\n",
       "      <th>title</th>\n",
       "      <th>length</th>\n",
       "      <th>unique</th>\n",
       "    </tr>\n",
       "  </thead>\n",
       "  <tbody>\n",
       "    <tr>\n",
       "      <th>75</th>\n",
       "      <td>./Books_EngFr</td>\n",
       "      <td>Eng_shakespeare</td>\n",
       "      <td>A Midsummer Night's Dream</td>\n",
       "      <td>16103</td>\n",
       "      <td>4345</td>\n",
       "    </tr>\n",
       "    <tr>\n",
       "      <th>76</th>\n",
       "      <td>./Books_EngFr</td>\n",
       "      <td>Eng_shakespeare</td>\n",
       "      <td>Richard III</td>\n",
       "      <td>48315</td>\n",
       "      <td>5535</td>\n",
       "    </tr>\n",
       "    <tr>\n",
       "      <th>77</th>\n",
       "      <td>./Books_EngFr</td>\n",
       "      <td>Eng_shakespeare</td>\n",
       "      <td>Othello</td>\n",
       "      <td>26590</td>\n",
       "      <td>5898</td>\n",
       "    </tr>\n",
       "    <tr>\n",
       "      <th>78</th>\n",
       "      <td>./Books_EngFr</td>\n",
       "      <td>Eng_shakespeare</td>\n",
       "      <td>The Merchant of Venice</td>\n",
       "      <td>20949</td>\n",
       "      <td>4978</td>\n",
       "    </tr>\n",
       "    <tr>\n",
       "      <th>79</th>\n",
       "      <td>./Books_EngFr</td>\n",
       "      <td>Eng_shakespeare</td>\n",
       "      <td>Macbeth</td>\n",
       "      <td>16874</td>\n",
       "      <td>4780</td>\n",
       "    </tr>\n",
       "    <tr>\n",
       "      <th>80</th>\n",
       "      <td>./Books_EngFr</td>\n",
       "      <td>Eng_shakespeare</td>\n",
       "      <td>Hamlet</td>\n",
       "      <td>28551</td>\n",
       "      <td>6776</td>\n",
       "    </tr>\n",
       "    <tr>\n",
       "      <th>81</th>\n",
       "      <td>./Books_EngFr</td>\n",
       "      <td>Eng_shakespeare</td>\n",
       "      <td>Romeo and Juliet</td>\n",
       "      <td>40776</td>\n",
       "      <td>5223</td>\n",
       "    </tr>\n",
       "  </tbody>\n",
       "</table>\n",
       "</div>"
      ],
      "text/plain": [
       "         language           author                      title length unique\n",
       "75  ./Books_EngFr  Eng_shakespeare  A Midsummer Night's Dream  16103   4345\n",
       "76  ./Books_EngFr  Eng_shakespeare                Richard III  48315   5535\n",
       "77  ./Books_EngFr  Eng_shakespeare                    Othello  26590   5898\n",
       "78  ./Books_EngFr  Eng_shakespeare     The Merchant of Venice  20949   4978\n",
       "79  ./Books_EngFr  Eng_shakespeare                    Macbeth  16874   4780\n",
       "80  ./Books_EngFr  Eng_shakespeare                     Hamlet  28551   6776\n",
       "81  ./Books_EngFr  Eng_shakespeare           Romeo and Juliet  40776   5223"
      ]
     },
     "execution_count": 34,
     "metadata": {},
     "output_type": "execute_result"
    }
   ],
   "source": [
    "stats[stats.author.str.startswith('Eng_')] "
   ]
  },
  {
   "cell_type": "code",
   "execution_count": 37,
   "metadata": {},
   "outputs": [
    {
     "data": {
      "text/plain": [
       "Text(0, 0.5, 'number of unique words')"
      ]
     },
     "execution_count": 37,
     "metadata": {},
     "output_type": "execute_result"
    },
    {
     "data": {
      "image/png": "[encoded data removed]",
      "text/plain": [
       "<Figure size 720x720 with 1 Axes>"
      ]
     },
     "metadata": {
      "needs_background": "light"
     },
     "output_type": "display_data"
    }
   ],
   "source": [
    "plt.figure(figsize=(10,10))\n",
    "subset = stats[stats.author.str.startswith('Eng_')] \n",
    "plt.loglog(subset.length,subset.unique,\"o\",label=\"English\",color=\"crimson\")\n",
    "subset = stats[stats.author.str.startswith('Frc_')] \n",
    "plt.loglog(subset.length,subset.unique,\"o\",label=\"French\",color=\"forestgreen\")\n",
    "subset = stats[stats.author.str.startswith('Ger_')] \n",
    "plt.loglog(subset.length,subset.unique,\"o\",label=\"German\",color=\"orange\")\n",
    "subset = stats[stats.author.str.startswith('Por_')] \n",
    "plt.loglog(subset.length,subset.unique,\"o\",label=\"Portuguese\",color=\"blueviolet\")\n",
    "plt.legend()\n",
    "plt.xlabel(\"book length\")\n",
    "plt.ylabel(\"number of unique words\")"
   ]
  },
  {
   "cell_type": "code",
   "execution_count": null,
   "metadata": {},
   "outputs": [],
   "source": []
  }
 ],
 "metadata": {
  "kernelspec": {
   "display_name": "Python 3.6",
   "language": "python",
   "name": "python36"
  },
  "language_info": {
   "codemirror_mode": {
    "name": "ipython",
    "version": 3
   },
   "file_extension": ".py",
   "mimetype": "text/x-python",
   "name": "python",
   "nbconvert_exporter": "python",
   "pygments_lexer": "ipython3",
   "version": "3.6.6"
  }
 },
 "nbformat": 4,
 "nbformat_minor": 2
}
